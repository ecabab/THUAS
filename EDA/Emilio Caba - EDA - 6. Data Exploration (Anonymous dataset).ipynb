{
 "cells": [
  {
   "cell_type": "code",
   "execution_count": 1,
   "metadata": {},
   "outputs": [],
   "source": [
    "import pandas as pd\n",
    "\n",
    "from datetime import datetime\n",
    "import glob, os\n",
    "import time"
   ]
  },
  {
   "cell_type": "code",
   "execution_count": null,
   "metadata": {},
   "outputs": [],
   "source": [
    "FILES_FOLDER = os.path.dirname(os.path.abspath('FZ-Data'))"
   ]
  },
  {
   "cell_type": "code",
   "execution_count": null,
   "metadata": {},
   "outputs": [],
   "source": [
    "def read_file(idx, file_path):\n",
    "    df = pd.read_excel(file_path, sheet_name='smartMeter')\n",
    "    \n",
    "    if set(['Timestamp','total_energy_in', 'total_energy_out']).issubset(df.columns):\n",
    "        df = df[['Timestamp', 'total_energy_in', 'total_energy_out']]\n",
    "\n",
    "        df['date'] = [datetime.fromtimestamp(date) for date in df['Timestamp']]\n",
    "        df.drop(columns=['Timestamp'], inplace=True)\n",
    "        df.set_index('date', inplace=True)\n",
    "        df.columns = [str(idx+1) + '_cons', str(idx+1) + '_deli']\n",
    "        df.index = df.index.round(freq = 'T')\n",
    "        print('File ' + file + ' read')\n",
    "    else:\n",
    "        print('FILE ' + file + ' CORRUPTED!')\n",
    "    \n",
    "    return df"
   ]
  },
  {
   "cell_type": "markdown",
   "metadata": {},
   "source": [
    "## Creating new DataSets (20 houses per dataset)"
   ]
  },
  {
   "cell_type": "code",
   "execution_count": null,
   "metadata": {},
   "outputs": [],
   "source": [
    "os.chdir(FILES_FOLDER + '/FZ-Data')\n",
    "\n",
    "files_list = glob.glob(\"*.xlsx\")\n",
    "files_list.sort()\n",
    "\n",
    "df_full = pd.DataFrame()\n",
    "for idx, file in enumerate(files_list):\n",
    "    start = time.time()\n",
    "    \n",
    "    df_to_insert = read_file(idx, file)\n",
    "    df_full = df_full.join(df_to_insert, how='outer')\n",
    "    \n",
    "    time_e = time.time() - start\n",
    "    print('time: ' + str(time_e))\n",
    "    \n",
    "    if (idx+1) % 20 == 0:\n",
    "        df_full.to_csv('df_full_' + str(idx) +'.csv')\n",
    "        del df_full\n",
    "        df_full = pd.DataFrame()"
   ]
  }
 ],
 "metadata": {
  "kernelspec": {
   "display_name": "Python 3",
   "language": "python",
   "name": "python3"
  },
  "language_info": {
   "codemirror_mode": {
    "name": "ipython",
    "version": 3
   },
   "file_extension": ".py",
   "mimetype": "text/x-python",
   "name": "python",
   "nbconvert_exporter": "python",
   "pygments_lexer": "ipython3",
   "version": "3.6.8"
  }
 },
 "nbformat": 4,
 "nbformat_minor": 2
}
