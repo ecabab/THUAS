{
 "cells": [
  {
   "cell_type": "code",
   "execution_count": 1,
   "metadata": {},
   "outputs": [],
   "source": [
    "import pandas as pd\n",
    "\n",
    "from datetime import datetime\n",
    "import time"
   ]
  },
  {
   "cell_type": "markdown",
   "metadata": {},
   "source": [
    "## Deleting NaN and merging"
   ]
  },
  {
   "cell_type": "code",
   "execution_count": 2,
   "metadata": {},
   "outputs": [],
   "source": [
    "df_20 = pd.read_csv('../FZ-Data/df_full_19.csv')\n",
    "df_40 = pd.read_csv('../FZ-Data/df_full_39.csv')\n",
    "df_60 = pd.read_csv('../FZ-Data/df_full_59.csv')\n",
    "df_80 = pd.read_csv('../FZ-Data/df_full_79.csv')\n",
    "df_100 = pd.read_csv('../FZ-Data/df_full_99.csv')\n",
    "df_120 = pd.read_csv('../FZ-Data/df_full_119.csv')"
   ]
  },
  {
   "cell_type": "code",
   "execution_count": 3,
   "metadata": {},
   "outputs": [],
   "source": [
    "df_20 = df_20.set_index('date')\n",
    "df_40 = df_40.set_index('date')\n",
    "df_60 = df_60.set_index('date')\n",
    "df_80 = df_80.set_index('date')\n",
    "df_100 = df_100.set_index('date')\n",
    "df_120 = df_120.set_index('date')\n",
    "\n",
    "df_20.index = pd.to_datetime(df_20.index)\n",
    "df_40.index = pd.to_datetime(df_40.index)\n",
    "df_60.index = pd.to_datetime(df_60.index)\n",
    "df_80.index = pd.to_datetime(df_80.index)\n",
    "df_100.index = pd.to_datetime(df_100.index)\n",
    "df_120.index = pd.to_datetime(df_120.index)"
   ]
  },
  {
   "cell_type": "code",
   "execution_count": 4,
   "metadata": {
    "scrolled": false
   },
   "outputs": [
    {
     "name": "stdout",
     "output_type": "stream",
     "text": [
      "To delete: []\n",
      "To delete: ['27_cons' '27_deli' '29_cons' '29_deli' '31_cons' '31_deli' '32_cons'\n",
      " '32_deli' '33_cons' '33_deli' '34_cons' '34_deli' '35_cons' '35_deli'\n",
      " '36_cons' '36_deli']\n",
      "To delete: ['44_cons' '44_deli']\n",
      "To delete: ['65_cons' '65_deli' '66_cons' '66_deli']\n",
      "To delete: ['85_cons' '85_deli']\n",
      "To delete: ['103_cons' '103_deli' '109_cons' '109_deli' '110_cons' '110_deli'\n",
      " '116_cons' '116_deli']\n"
     ]
    }
   ],
   "source": [
    "# Checking houses\n",
    "for df in [df_20, df_40, df_60, df_80, df_100, df_120]:\n",
    "    nan_values = df.isna().sum()\n",
    "    nan_to_delete = nan_values[nan_values > 150000]\n",
    "    print('To delete: ' + str(nan_to_delete.index.values))"
   ]
  },
  {
   "cell_type": "code",
   "execution_count": 5,
   "metadata": {},
   "outputs": [
    {
     "name": "stdout",
     "output_type": "stream",
     "text": [
      "(3132268, 36)\n",
      "(236483, 36)\n",
      "(3096807, 38)\n",
      "(1877572, 38)\n",
      "(889763, 34)\n",
      "(349990, 34)\n"
     ]
    }
   ],
   "source": [
    "for df in [df_20, df_40, df_60, df_80, df_100, df_120]:\n",
    "    print(df.shape)"
   ]
  },
  {
   "cell_type": "code",
   "execution_count": 6,
   "metadata": {},
   "outputs": [],
   "source": [
    "# Deleting some houses\n",
    "\n",
    "# Checking plots\n",
    "df_20.drop(['20_deli', '20_cons'], axis=1, inplace=True)\n",
    "\n",
    "# Missing values\n",
    "df_40.drop(['27_deli', '27_cons'], axis=1, inplace=True)\n",
    "df_40.drop(['29_deli', '29_cons'], axis=1, inplace=True)\n",
    "df_40.drop(['31_deli', '31_cons'], axis=1, inplace=True)\n",
    "df_40.drop(['32_deli', '32_cons'], axis=1, inplace=True)\n",
    "df_40.drop(['33_deli', '33_cons'], axis=1, inplace=True)\n",
    "# Checking plots\n",
    "df_40.drop(['34_deli', '34_cons'], axis=1, inplace=True)\n",
    "df_40.drop(['35_deli', '35_cons'], axis=1, inplace=True)\n",
    "df_40.drop(['36_deli', '36_cons'], axis=1, inplace=True)\n",
    "df_40.drop(['38_deli', '38_cons'], axis=1, inplace=True)\n",
    "\n",
    "# Missing values\n",
    "df_60.drop(['44_deli', '44_cons'], axis=1, inplace=True)\n",
    "df_60.drop(['59_deli', '59_cons'], axis=1, inplace=True)\n",
    "# Checking plots\n",
    "df_60.drop(['49_deli', '49_cons'], axis=1, inplace=True)\n",
    "\n",
    "# Missing values\n",
    "df_80.drop(['65_deli', '65_cons'], axis=1, inplace=True)\n",
    "df_80.drop(['66_deli', '66_cons'], axis=1, inplace=True)\n",
    "# Checking plots\n",
    "df_80.drop(['68_deli', '68_cons'], axis=1, inplace=True)\n",
    "\n",
    "# Missing values\n",
    "df_100.drop(['85_deli', '85_cons'], axis=1, inplace=True)\n",
    "# Checking plots\n",
    "df_100.drop(['88_deli', '88_cons'], axis=1, inplace=True)\n",
    "\n",
    "# Missing values\n",
    "df_120.drop(['103_deli', '103_cons'], axis=1, inplace=True)\n",
    "df_120.drop(['109_deli', '109_cons'], axis=1, inplace=True)\n",
    "df_120.drop(['110_deli', '110_cons'], axis=1, inplace=True)\n",
    "df_120.drop(['116_deli', '116_cons'], axis=1, inplace=True)\n",
    "# Checking plots\n",
    "df_120.drop(['115_deli', '115_cons'], axis=1, inplace=True)"
   ]
  },
  {
   "cell_type": "code",
   "execution_count": 7,
   "metadata": {},
   "outputs": [],
   "source": [
    "# Forward filling\n",
    "for df in [df_20, df_40, df_60, df_80, df_100, df_120]:\n",
    "    df.fillna(method='ffill', inplace=True)"
   ]
  },
  {
   "cell_type": "code",
   "execution_count": 8,
   "metadata": {},
   "outputs": [
    {
     "name": "stdout",
     "output_type": "stream",
     "text": [
      "(3132268, 34)\n",
      "(236483, 18)\n",
      "(3096807, 32)\n",
      "(1877572, 32)\n",
      "(889763, 30)\n",
      "(349990, 24)\n"
     ]
    }
   ],
   "source": [
    "for df in [df_20, df_40, df_60, df_80, df_100, df_120]:\n",
    "    print(df.shape)"
   ]
  },
  {
   "cell_type": "code",
   "execution_count": 9,
   "metadata": {},
   "outputs": [],
   "source": [
    "# Deleting NaN values\n",
    "for df in [df_20, df_40, df_60, df_80, df_100, df_120]:\n",
    "    df.dropna(inplace=True)"
   ]
  },
  {
   "cell_type": "code",
   "execution_count": 10,
   "metadata": {},
   "outputs": [
    {
     "name": "stdout",
     "output_type": "stream",
     "text": [
      "(3114477, 34)\n",
      "(216168, 18)\n",
      "(3096805, 32)\n",
      "(1877571, 32)\n",
      "(876411, 30)\n",
      "(347821, 24)\n"
     ]
    }
   ],
   "source": [
    "for df in [df_20, df_40, df_60, df_80, df_100, df_120]:\n",
    "    print(df.shape)"
   ]
  },
  {
   "cell_type": "code",
   "execution_count": 11,
   "metadata": {},
   "outputs": [
    {
     "name": "stdout",
     "output_type": "stream",
     "text": [
      "2018-10-24 13:10:00\n",
      "2019-08-01 00:00:00\n",
      "--------------------\n",
      "2018-10-09 13:01:00\n",
      "2019-08-01 00:00:00\n",
      "--------------------\n",
      "2018-08-01 00:05:00\n",
      "2019-08-01 00:00:00\n",
      "--------------------\n",
      "2018-08-01 00:05:00\n",
      "2019-08-01 00:00:00\n",
      "--------------------\n",
      "2018-09-14 15:50:00\n",
      "2019-08-01 00:00:00\n",
      "--------------------\n",
      "2018-08-08 12:45:00\n",
      "2019-08-01 00:00:00\n",
      "--------------------\n"
     ]
    }
   ],
   "source": [
    "for df in [df_20, df_40, df_60, df_80, df_100, df_120]:\n",
    "    print(df.index[0])\n",
    "    print(df.index[-1])\n",
    "    print('-' * 20)"
   ]
  },
  {
   "cell_type": "markdown",
   "metadata": {},
   "source": [
    "## Compute real values"
   ]
  },
  {
   "cell_type": "code",
   "execution_count": 12,
   "metadata": {},
   "outputs": [
    {
     "name": "stdout",
     "output_type": "stream",
     "text": [
      "1_cons\n",
      "1_deli\n",
      "2_cons\n",
      "2_deli\n",
      "3_cons\n",
      "3_deli\n",
      "4_cons\n",
      "4_deli\n",
      "5_cons\n",
      "5_deli\n",
      "6_cons\n",
      "6_deli\n",
      "7_cons\n",
      "7_deli\n",
      "8_cons\n",
      "8_deli\n",
      "9_cons\n",
      "9_deli\n",
      "10_cons\n",
      "10_deli\n",
      "11_cons\n",
      "11_deli\n",
      "12_cons\n",
      "12_deli\n",
      "14_cons\n",
      "14_deli\n",
      "15_cons\n",
      "15_deli\n",
      "16_cons\n",
      "16_deli\n",
      "17_cons\n",
      "17_deli\n",
      "19_cons\n",
      "19_deli\n",
      "DF Done\n",
      "22_cons\n",
      "22_deli\n",
      "23_cons\n",
      "23_deli\n",
      "24_cons\n",
      "24_deli\n",
      "26_cons\n",
      "26_deli\n",
      "28_cons\n",
      "28_deli\n",
      "30_cons\n",
      "30_deli\n",
      "37_cons\n",
      "37_deli\n",
      "39_cons\n",
      "39_deli\n",
      "40_cons\n",
      "40_deli\n",
      "DF Done\n",
      "41_cons\n",
      "41_deli\n",
      "42_cons\n",
      "42_deli\n",
      "43_cons\n",
      "43_deli\n",
      "45_cons\n",
      "45_deli\n",
      "46_cons\n",
      "46_deli\n",
      "47_cons\n",
      "47_deli\n",
      "48_cons\n",
      "48_deli\n",
      "50_cons\n",
      "50_deli\n",
      "51_cons\n",
      "51_deli\n",
      "52_cons\n",
      "52_deli\n",
      "54_cons\n",
      "54_deli\n",
      "55_cons\n",
      "55_deli\n",
      "56_cons\n",
      "56_deli\n",
      "57_cons\n",
      "57_deli\n",
      "58_cons\n",
      "58_deli\n",
      "60_cons\n",
      "60_deli\n",
      "DF Done\n",
      "61_cons\n",
      "61_deli\n",
      "62_cons\n",
      "62_deli\n",
      "63_cons\n",
      "63_deli\n",
      "64_cons\n",
      "64_deli\n",
      "67_cons\n",
      "67_deli\n",
      "69_cons\n",
      "69_deli\n",
      "70_cons\n",
      "70_deli\n",
      "71_cons\n",
      "71_deli\n",
      "72_cons\n",
      "72_deli\n",
      "73_cons\n",
      "73_deli\n",
      "74_cons\n",
      "74_deli\n",
      "75_cons\n",
      "75_deli\n",
      "76_cons\n",
      "76_deli\n",
      "77_cons\n",
      "77_deli\n",
      "79_cons\n",
      "79_deli\n",
      "80_cons\n",
      "80_deli\n",
      "DF Done\n",
      "81_cons\n",
      "81_deli\n",
      "83_cons\n",
      "83_deli\n",
      "84_cons\n",
      "84_deli\n",
      "89_cons\n",
      "89_deli\n",
      "90_cons\n",
      "90_deli\n",
      "91_cons\n",
      "91_deli\n",
      "92_cons\n",
      "92_deli\n",
      "93_cons\n",
      "93_deli\n",
      "94_cons\n",
      "94_deli\n",
      "95_cons\n",
      "95_deli\n",
      "96_cons\n",
      "96_deli\n",
      "97_cons\n",
      "97_deli\n",
      "98_cons\n",
      "98_deli\n",
      "99_cons\n",
      "99_deli\n",
      "100_cons\n",
      "100_deli\n",
      "DF Done\n",
      "102_cons\n",
      "102_deli\n",
      "104_cons\n",
      "104_deli\n",
      "105_cons\n",
      "105_deli\n",
      "106_cons\n",
      "106_deli\n",
      "111_cons\n",
      "111_deli\n",
      "112_cons\n",
      "112_deli\n",
      "113_cons\n",
      "113_deli\n",
      "114_cons\n",
      "114_deli\n",
      "117_cons\n",
      "117_deli\n",
      "118_cons\n",
      "118_deli\n",
      "119_cons\n",
      "119_deli\n",
      "120_cons\n",
      "120_deli\n",
      "DF Done\n"
     ]
    }
   ],
   "source": [
    "for df in [df_20, df_40, df_60, df_80, df_100, df_120]:\n",
    "    for col in df.columns:\n",
    "        real_in = [y-x for x, y in zip(df[col].values.tolist(), df[col].values.tolist()[1:])]\n",
    "        real_in.insert(0, 0)\n",
    "        df[col] = real_in\n",
    "        print(col)\n",
    "    print('DF Done')"
   ]
  },
  {
   "cell_type": "code",
   "execution_count": 13,
   "metadata": {},
   "outputs": [
    {
     "name": "stdout",
     "output_type": "stream",
     "text": [
      "Done\n",
      "Done\n",
      "Done\n",
      "Done\n",
      "Done\n",
      "Done\n"
     ]
    }
   ],
   "source": [
    "df_20.to_csv('Data/df_20.csv')\n",
    "print('Done')\n",
    "df_40.to_csv('Data/df_40.csv')\n",
    "print('Done')\n",
    "df_60.to_csv('Data/df_60.csv')\n",
    "print('Done')\n",
    "df_80.to_csv('Data/df_80.csv')\n",
    "print('Done')\n",
    "df_100.to_csv('Data/df_100.csv')\n",
    "print('Done')\n",
    "df_120.to_csv('Data/df_120.csv')\n",
    "print('Done')"
   ]
  }
 ],
 "metadata": {
  "kernelspec": {
   "display_name": "Python 3",
   "language": "python",
   "name": "python3"
  },
  "language_info": {
   "codemirror_mode": {
    "name": "ipython",
    "version": 3
   },
   "file_extension": ".py",
   "mimetype": "text/x-python",
   "name": "python",
   "nbconvert_exporter": "python",
   "pygments_lexer": "ipython3",
   "version": "3.6.8"
  }
 },
 "nbformat": 4,
 "nbformat_minor": 2
}
