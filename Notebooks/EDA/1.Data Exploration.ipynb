{
 "cells": [
  {
   "cell_type": "markdown",
   "metadata": {},
   "source": [
    "# Exploratory Data Analysis"
   ]
  },
  {
   "cell_type": "code",
   "execution_count": 1,
   "metadata": {},
   "outputs": [],
   "source": [
    "# Imports\n",
    "import pandas as pd\n",
    "import numpy as np\n",
    "\n",
    "import matplotlib.pyplot as plt\n",
    "import seaborn as sns\n",
    "from pandas.plotting import register_matplotlib_converters\n",
    "\n",
    "register_matplotlib_converters()\n",
    "sns.set()"
   ]
  },
  {
   "cell_type": "markdown",
   "metadata": {},
   "source": [
    "## Importing data using Pandas"
   ]
  },
  {
   "cell_type": "markdown",
   "metadata": {},
   "source": [
    "The data from _Groene Mient_ comes inside an excel file which consists of two different sheets (_Productie_ and _Consumptie_)"
   ]
  },
  {
   "cell_type": "code",
   "execution_count": 2,
   "metadata": {},
   "outputs": [
    {
     "data": {
      "text/html": [
       "<div>\n",
       "<style scoped>\n",
       "    .dataframe tbody tr th:only-of-type {\n",
       "        vertical-align: middle;\n",
       "    }\n",
       "\n",
       "    .dataframe tbody tr th {\n",
       "        vertical-align: top;\n",
       "    }\n",
       "\n",
       "    .dataframe thead th {\n",
       "        text-align: right;\n",
       "    }\n",
       "</style>\n",
       "<table border=\"1\" class=\"dataframe\">\n",
       "  <thead>\n",
       "    <tr style=\"text-align: right;\">\n",
       "      <th></th>\n",
       "      <th>ID-nummer</th>\n",
       "      <th>H01</th>\n",
       "      <th>H02</th>\n",
       "      <th>H03</th>\n",
       "      <th>H04</th>\n",
       "      <th>H05</th>\n",
       "      <th>H06</th>\n",
       "      <th>H07</th>\n",
       "      <th>H08</th>\n",
       "      <th>H09</th>\n",
       "      <th>...</th>\n",
       "      <th>H24</th>\n",
       "      <th>H25</th>\n",
       "      <th>H26</th>\n",
       "      <th>H27</th>\n",
       "      <th>H28</th>\n",
       "      <th>H29</th>\n",
       "      <th>H30</th>\n",
       "      <th>H31</th>\n",
       "      <th>H32</th>\n",
       "      <th>H33</th>\n",
       "    </tr>\n",
       "  </thead>\n",
       "  <tbody>\n",
       "    <tr>\n",
       "      <th>0</th>\n",
       "      <td>concept</td>\n",
       "      <td>E</td>\n",
       "      <td>E</td>\n",
       "      <td>WP</td>\n",
       "      <td>WP</td>\n",
       "      <td>WP</td>\n",
       "      <td>E</td>\n",
       "      <td>E</td>\n",
       "      <td>E</td>\n",
       "      <td>E</td>\n",
       "      <td>...</td>\n",
       "      <td>WP</td>\n",
       "      <td>Zon</td>\n",
       "      <td>WP</td>\n",
       "      <td>WP</td>\n",
       "      <td>Zon</td>\n",
       "      <td>E</td>\n",
       "      <td>E</td>\n",
       "      <td>WP</td>\n",
       "      <td>Zon</td>\n",
       "      <td>WP</td>\n",
       "    </tr>\n",
       "    <tr>\n",
       "      <th>1</th>\n",
       "      <td>PV-aantal</td>\n",
       "      <td>17</td>\n",
       "      <td>14</td>\n",
       "      <td>9</td>\n",
       "      <td>11</td>\n",
       "      <td>12</td>\n",
       "      <td>14</td>\n",
       "      <td>13</td>\n",
       "      <td>9</td>\n",
       "      <td>14</td>\n",
       "      <td>...</td>\n",
       "      <td>11</td>\n",
       "      <td>13</td>\n",
       "      <td>12</td>\n",
       "      <td>9</td>\n",
       "      <td>13</td>\n",
       "      <td>14</td>\n",
       "      <td>14</td>\n",
       "      <td>15</td>\n",
       "      <td>12</td>\n",
       "      <td>10</td>\n",
       "    </tr>\n",
       "    <tr>\n",
       "      <th>2</th>\n",
       "      <td>personen</td>\n",
       "      <td>4</td>\n",
       "      <td>2</td>\n",
       "      <td>4</td>\n",
       "      <td>1</td>\n",
       "      <td>4</td>\n",
       "      <td>4</td>\n",
       "      <td>2</td>\n",
       "      <td>4</td>\n",
       "      <td>1</td>\n",
       "      <td>...</td>\n",
       "      <td>2</td>\n",
       "      <td>2</td>\n",
       "      <td>2</td>\n",
       "      <td>3</td>\n",
       "      <td>2</td>\n",
       "      <td>1</td>\n",
       "      <td>4</td>\n",
       "      <td>2</td>\n",
       "      <td>4</td>\n",
       "      <td>1</td>\n",
       "    </tr>\n",
       "    <tr>\n",
       "      <th>3</th>\n",
       "      <td>Datum-tijd tot</td>\n",
       "      <td>Productie kWh</td>\n",
       "      <td>Productie kWh</td>\n",
       "      <td>Productie kWh</td>\n",
       "      <td>Productie kWh</td>\n",
       "      <td>Productie kWh</td>\n",
       "      <td>Productie kWh</td>\n",
       "      <td>Productie kWh</td>\n",
       "      <td>Productie kWh</td>\n",
       "      <td>Productie kWh</td>\n",
       "      <td>...</td>\n",
       "      <td>Productie kWh</td>\n",
       "      <td>Productie kWh</td>\n",
       "      <td>Productie kWh</td>\n",
       "      <td>Productie kWh</td>\n",
       "      <td>Productie kWh</td>\n",
       "      <td>Productie kWh</td>\n",
       "      <td>Productie kWh</td>\n",
       "      <td>Productie kWh</td>\n",
       "      <td>Productie kWh</td>\n",
       "      <td>Productie kWh</td>\n",
       "    </tr>\n",
       "    <tr>\n",
       "      <th>4</th>\n",
       "      <td>2017-07-11 00:15:00</td>\n",
       "      <td>0</td>\n",
       "      <td>0</td>\n",
       "      <td>0</td>\n",
       "      <td>0</td>\n",
       "      <td>NaN</td>\n",
       "      <td>0</td>\n",
       "      <td>0</td>\n",
       "      <td>0</td>\n",
       "      <td>0</td>\n",
       "      <td>...</td>\n",
       "      <td>0</td>\n",
       "      <td>0</td>\n",
       "      <td>0</td>\n",
       "      <td>0</td>\n",
       "      <td>0</td>\n",
       "      <td>0</td>\n",
       "      <td>0</td>\n",
       "      <td>0</td>\n",
       "      <td>0</td>\n",
       "      <td>0</td>\n",
       "    </tr>\n",
       "  </tbody>\n",
       "</table>\n",
       "<p>5 rows × 34 columns</p>\n",
       "</div>"
      ],
      "text/plain": [
       "             ID-nummer            H01            H02            H03  \\\n",
       "0              concept              E              E             WP   \n",
       "1            PV-aantal             17             14              9   \n",
       "2             personen              4              2              4   \n",
       "3       Datum-tijd tot  Productie kWh  Productie kWh  Productie kWh   \n",
       "4  2017-07-11 00:15:00              0              0              0   \n",
       "\n",
       "             H04            H05            H06            H07            H08  \\\n",
       "0             WP             WP              E              E              E   \n",
       "1             11             12             14             13              9   \n",
       "2              1              4              4              2              4   \n",
       "3  Productie kWh  Productie kWh  Productie kWh  Productie kWh  Productie kWh   \n",
       "4              0            NaN              0              0              0   \n",
       "\n",
       "             H09  ...            H24            H25            H26  \\\n",
       "0              E  ...             WP            Zon             WP   \n",
       "1             14  ...             11             13             12   \n",
       "2              1  ...              2              2              2   \n",
       "3  Productie kWh  ...  Productie kWh  Productie kWh  Productie kWh   \n",
       "4              0  ...              0              0              0   \n",
       "\n",
       "             H27            H28            H29            H30            H31  \\\n",
       "0             WP            Zon              E              E             WP   \n",
       "1              9             13             14             14             15   \n",
       "2              3              2              1              4              2   \n",
       "3  Productie kWh  Productie kWh  Productie kWh  Productie kWh  Productie kWh   \n",
       "4              0              0              0              0              0   \n",
       "\n",
       "             H32            H33  \n",
       "0            Zon             WP  \n",
       "1             12             10  \n",
       "2              4              1  \n",
       "3  Productie kWh  Productie kWh  \n",
       "4              0              0  \n",
       "\n",
       "[5 rows x 34 columns]"
      ]
     },
     "metadata": {},
     "output_type": "display_data"
    },
    {
     "data": {
      "text/html": [
       "<div>\n",
       "<style scoped>\n",
       "    .dataframe tbody tr th:only-of-type {\n",
       "        vertical-align: middle;\n",
       "    }\n",
       "\n",
       "    .dataframe tbody tr th {\n",
       "        vertical-align: top;\n",
       "    }\n",
       "\n",
       "    .dataframe thead th {\n",
       "        text-align: right;\n",
       "    }\n",
       "</style>\n",
       "<table border=\"1\" class=\"dataframe\">\n",
       "  <thead>\n",
       "    <tr style=\"text-align: right;\">\n",
       "      <th></th>\n",
       "      <th>ID-nummer</th>\n",
       "      <th>H01</th>\n",
       "      <th>H02</th>\n",
       "      <th>H03</th>\n",
       "      <th>H04</th>\n",
       "      <th>H05</th>\n",
       "      <th>H06</th>\n",
       "      <th>H07</th>\n",
       "      <th>H08</th>\n",
       "      <th>H09</th>\n",
       "      <th>...</th>\n",
       "      <th>H24</th>\n",
       "      <th>H25</th>\n",
       "      <th>H26</th>\n",
       "      <th>H27</th>\n",
       "      <th>H28</th>\n",
       "      <th>H29</th>\n",
       "      <th>H30</th>\n",
       "      <th>H31</th>\n",
       "      <th>H32</th>\n",
       "      <th>H33</th>\n",
       "    </tr>\n",
       "  </thead>\n",
       "  <tbody>\n",
       "    <tr>\n",
       "      <th>0</th>\n",
       "      <td>concept</td>\n",
       "      <td>E</td>\n",
       "      <td>E</td>\n",
       "      <td>WP</td>\n",
       "      <td>WP</td>\n",
       "      <td>WP</td>\n",
       "      <td>E</td>\n",
       "      <td>E</td>\n",
       "      <td>E</td>\n",
       "      <td>E</td>\n",
       "      <td>...</td>\n",
       "      <td>WP</td>\n",
       "      <td>Zon</td>\n",
       "      <td>WP</td>\n",
       "      <td>WP</td>\n",
       "      <td>Zon</td>\n",
       "      <td>E</td>\n",
       "      <td>E</td>\n",
       "      <td>WP</td>\n",
       "      <td>Zon</td>\n",
       "      <td>WP</td>\n",
       "    </tr>\n",
       "    <tr>\n",
       "      <th>1</th>\n",
       "      <td>PV-aantal</td>\n",
       "      <td>17</td>\n",
       "      <td>14</td>\n",
       "      <td>9</td>\n",
       "      <td>11</td>\n",
       "      <td>12</td>\n",
       "      <td>14</td>\n",
       "      <td>13</td>\n",
       "      <td>9</td>\n",
       "      <td>14</td>\n",
       "      <td>...</td>\n",
       "      <td>11</td>\n",
       "      <td>13</td>\n",
       "      <td>12</td>\n",
       "      <td>9</td>\n",
       "      <td>13</td>\n",
       "      <td>14</td>\n",
       "      <td>14</td>\n",
       "      <td>15</td>\n",
       "      <td>12</td>\n",
       "      <td>10</td>\n",
       "    </tr>\n",
       "    <tr>\n",
       "      <th>2</th>\n",
       "      <td>personen</td>\n",
       "      <td>4</td>\n",
       "      <td>2</td>\n",
       "      <td>4</td>\n",
       "      <td>1</td>\n",
       "      <td>4</td>\n",
       "      <td>4</td>\n",
       "      <td>2</td>\n",
       "      <td>4</td>\n",
       "      <td>1</td>\n",
       "      <td>...</td>\n",
       "      <td>2</td>\n",
       "      <td>2</td>\n",
       "      <td>2</td>\n",
       "      <td>3</td>\n",
       "      <td>2</td>\n",
       "      <td>1</td>\n",
       "      <td>4</td>\n",
       "      <td>2</td>\n",
       "      <td>4</td>\n",
       "      <td>1</td>\n",
       "    </tr>\n",
       "    <tr>\n",
       "      <th>3</th>\n",
       "      <td>Datum-tijd tot</td>\n",
       "      <td>Consumptie kWh</td>\n",
       "      <td>Consumptie kWh</td>\n",
       "      <td>Consumptie kWh</td>\n",
       "      <td>Consumptie kWh</td>\n",
       "      <td>Consumptie kWh</td>\n",
       "      <td>Consumptie kWh</td>\n",
       "      <td>Consumptie kWh</td>\n",
       "      <td>Consumptie kWh</td>\n",
       "      <td>Consumptie kWh</td>\n",
       "      <td>...</td>\n",
       "      <td>Consumptie kWh</td>\n",
       "      <td>Consumptie kWh</td>\n",
       "      <td>Consumptie kWh</td>\n",
       "      <td>Consumptie kWh</td>\n",
       "      <td>Consumptie kWh</td>\n",
       "      <td>Consumptie kWh</td>\n",
       "      <td>Consumptie kWh</td>\n",
       "      <td>Consumptie kWh</td>\n",
       "      <td>Consumptie kWh</td>\n",
       "      <td>Consumptie kWh</td>\n",
       "    </tr>\n",
       "    <tr>\n",
       "      <th>4</th>\n",
       "      <td>2017-07-11 00:15:00</td>\n",
       "      <td>0.038</td>\n",
       "      <td>0.039</td>\n",
       "      <td>0.044</td>\n",
       "      <td>0.024</td>\n",
       "      <td>NaN</td>\n",
       "      <td>0.039</td>\n",
       "      <td>0.025</td>\n",
       "      <td>0.006</td>\n",
       "      <td>0.294</td>\n",
       "      <td>...</td>\n",
       "      <td>0.053</td>\n",
       "      <td>0.018</td>\n",
       "      <td>0.076</td>\n",
       "      <td>0.07</td>\n",
       "      <td>0.036</td>\n",
       "      <td>0.014</td>\n",
       "      <td>0.044</td>\n",
       "      <td>0.416</td>\n",
       "      <td>0.023</td>\n",
       "      <td>0.053</td>\n",
       "    </tr>\n",
       "  </tbody>\n",
       "</table>\n",
       "<p>5 rows × 34 columns</p>\n",
       "</div>"
      ],
      "text/plain": [
       "             ID-nummer             H01             H02             H03  \\\n",
       "0              concept               E               E              WP   \n",
       "1            PV-aantal              17              14               9   \n",
       "2             personen               4               2               4   \n",
       "3       Datum-tijd tot  Consumptie kWh  Consumptie kWh  Consumptie kWh   \n",
       "4  2017-07-11 00:15:00           0.038           0.039           0.044   \n",
       "\n",
       "              H04             H05             H06             H07  \\\n",
       "0              WP              WP               E               E   \n",
       "1              11              12              14              13   \n",
       "2               1               4               4               2   \n",
       "3  Consumptie kWh  Consumptie kWh  Consumptie kWh  Consumptie kWh   \n",
       "4           0.024             NaN           0.039           0.025   \n",
       "\n",
       "              H08             H09  ...             H24             H25  \\\n",
       "0               E               E  ...              WP             Zon   \n",
       "1               9              14  ...              11              13   \n",
       "2               4               1  ...               2               2   \n",
       "3  Consumptie kWh  Consumptie kWh  ...  Consumptie kWh  Consumptie kWh   \n",
       "4           0.006           0.294  ...           0.053           0.018   \n",
       "\n",
       "              H26             H27             H28             H29  \\\n",
       "0              WP              WP             Zon               E   \n",
       "1              12               9              13              14   \n",
       "2               2               3               2               1   \n",
       "3  Consumptie kWh  Consumptie kWh  Consumptie kWh  Consumptie kWh   \n",
       "4           0.076            0.07           0.036           0.014   \n",
       "\n",
       "              H30             H31             H32             H33  \n",
       "0               E              WP             Zon              WP  \n",
       "1              14              15              12              10  \n",
       "2               4               2               4               1  \n",
       "3  Consumptie kWh  Consumptie kWh  Consumptie kWh  Consumptie kWh  \n",
       "4           0.044           0.416           0.023           0.053  \n",
       "\n",
       "[5 rows x 34 columns]"
      ]
     },
     "metadata": {},
     "output_type": "display_data"
    }
   ],
   "source": [
    "file_name = '../dwelling2/Data/dataGM_excel2.xlsx'\n",
    "\n",
    "df_deli = pd.read_excel(file_name, sheet_name='Productie')\n",
    "df_cons = pd.read_excel(file_name, sheet_name='Consumptie')\n",
    "\n",
    "display(df_deli.head())\n",
    "display(df_cons.head())"
   ]
  },
  {
   "cell_type": "markdown",
   "metadata": {},
   "source": [
    "We can already make few observations here by looking at the head of the data:\n",
    "1. Concept, PV-aantal, and personen are redundant since they appear in both datasets.\n",
    "2. In both datasets there are missing values, which need to be handled.\n",
    "3. Since these datasets contain time series data, we will rename the first column to _timestamp_ and set it as index."
   ]
  },
  {
   "cell_type": "markdown",
   "metadata": {},
   "source": [
    "## Splitting datasets"
   ]
  },
  {
   "cell_type": "markdown",
   "metadata": {},
   "source": [
    "We will split below the datasets in order to delete the redundant information. It will result in three different datasets:\n",
    "* **df_info:** Contains the heating syetem type, number of people living and number of solar panels installed on each dwelling.\n",
    "* **df_deli:** Contains the energy delivery of each dwelling measured by the smart meter every 15 minutes.\n",
    "* **df_cons:** Contains the energy consumption of each dwelling measured by the smart meter  every 15 minutes.\n",
    "\n",
    "We will also rename their indexes."
   ]
  },
  {
   "cell_type": "code",
   "execution_count": 3,
   "metadata": {},
   "outputs": [],
   "source": [
    "df_info = df_deli.iloc[:3]\n",
    "df_info.set_index('ID-nummer', inplace=True)\n",
    "df_info.index.names = ['feature']\n",
    "\n",
    "df_deli = df_deli.iloc[4:]\n",
    "df_deli.set_index('ID-nummer', inplace=True)\n",
    "df_deli.index.names = ['timestamp']\n",
    "\n",
    "df_cons = df_cons.iloc[4:]\n",
    "df_cons.set_index('ID-nummer', inplace=True)\n",
    "df_cons.index.names = ['timestamp']"
   ]
  },
  {
   "cell_type": "code",
   "execution_count": 4,
   "metadata": {},
   "outputs": [
    {
     "data": {
      "text/plain": [
       "Timestamp('2017-07-11 00:15:00')"
      ]
     },
     "metadata": {},
     "output_type": "display_data"
    },
    {
     "data": {
      "text/plain": [
       "Timestamp('2019-06-01 00:00:00')"
      ]
     },
     "metadata": {},
     "output_type": "display_data"
    }
   ],
   "source": [
    "display(df_deli.index[0])\n",
    "display(df_deli.index[0-1])"
   ]
  },
  {
   "cell_type": "markdown",
   "metadata": {},
   "source": [
    "As we can see, we have almost 2 years of data. Let's check now how much data is null."
   ]
  },
  {
   "cell_type": "code",
   "execution_count": 5,
   "metadata": {},
   "outputs": [
    {
     "name": "stdout",
     "output_type": "stream",
     "text": [
      "<class 'pandas.core.frame.DataFrame'>\n",
      "DatetimeIndex: 66240 entries, 2017-07-11 00:15:00 to 2019-06-01 00:00:00\n",
      "Data columns (total 33 columns):\n",
      "H01    64356 non-null object\n",
      "H02    64083 non-null object\n",
      "H03    64140 non-null object\n",
      "H04    64092 non-null object\n",
      "H05    55611 non-null object\n",
      "H06    64168 non-null object\n",
      "H07    64079 non-null object\n",
      "H08    64611 non-null object\n",
      "H09    64179 non-null object\n",
      "H10    47910 non-null object\n",
      "H11    59488 non-null object\n",
      "H12    64263 non-null object\n",
      "H13    64225 non-null object\n",
      "H14    50432 non-null object\n",
      "H15    64029 non-null object\n",
      "H16    64116 non-null object\n",
      "H17    64348 non-null object\n",
      "H18    64097 non-null object\n",
      "H19    61478 non-null object\n",
      "H20    64145 non-null object\n",
      "H21    64179 non-null object\n",
      "H22    63599 non-null object\n",
      "H23    64272 non-null object\n",
      "H24    64530 non-null object\n",
      "H25    64450 non-null object\n",
      "H26    64449 non-null object\n",
      "H27    58387 non-null object\n",
      "H28    64435 non-null object\n",
      "H29    63984 non-null object\n",
      "H30    49593 non-null object\n",
      "H31    64348 non-null object\n",
      "H32    64348 non-null object\n",
      "H33    64259 non-null object\n",
      "dtypes: object(33)\n",
      "memory usage: 17.2+ MB\n"
     ]
    },
    {
     "data": {
      "text/plain": [
       "None"
      ]
     },
     "metadata": {},
     "output_type": "display_data"
    }
   ],
   "source": [
    "display(df_deli.info())"
   ]
  },
  {
   "cell_type": "code",
   "execution_count": 6,
   "metadata": {},
   "outputs": [
    {
     "name": "stdout",
     "output_type": "stream",
     "text": [
      "<class 'pandas.core.frame.DataFrame'>\n",
      "DatetimeIndex: 66240 entries, 2017-07-11 00:15:00 to 2019-06-01 00:00:00\n",
      "Data columns (total 33 columns):\n",
      "H01    64356 non-null object\n",
      "H02    64083 non-null object\n",
      "H03    64140 non-null object\n",
      "H04    64092 non-null object\n",
      "H05    55611 non-null object\n",
      "H06    64168 non-null object\n",
      "H07    64079 non-null object\n",
      "H08    64611 non-null object\n",
      "H09    64179 non-null object\n",
      "H10    47910 non-null object\n",
      "H11    59858 non-null object\n",
      "H12    64263 non-null object\n",
      "H13    64225 non-null object\n",
      "H14    50433 non-null object\n",
      "H15    64029 non-null object\n",
      "H16    64116 non-null object\n",
      "H17    64348 non-null object\n",
      "H18    64097 non-null object\n",
      "H19    61478 non-null object\n",
      "H20    64145 non-null object\n",
      "H21    64179 non-null object\n",
      "H22    63599 non-null object\n",
      "H23    64272 non-null object\n",
      "H24    64530 non-null object\n",
      "H25    64450 non-null object\n",
      "H26    64449 non-null object\n",
      "H27    58387 non-null object\n",
      "H28    64435 non-null object\n",
      "H29    63984 non-null object\n",
      "H30    49593 non-null object\n",
      "H31    64348 non-null object\n",
      "H32    64348 non-null object\n",
      "H33    64259 non-null object\n",
      "dtypes: object(33)\n",
      "memory usage: 17.2+ MB\n"
     ]
    },
    {
     "data": {
      "text/plain": [
       "None"
      ]
     },
     "metadata": {},
     "output_type": "display_data"
    }
   ],
   "source": [
    "display(df_cons.info())"
   ]
  },
  {
   "cell_type": "markdown",
   "metadata": {},
   "source": [
    "We can extend our observations on missing data and the datatypes here:\n",
    "* Every house has missing data, probably the smart meter malfunctioned.\n",
    "* There are some houses (H05, H10, H11, H14, H27 and H30) which have quite less data than the others because the smart meters were not installed at the same time.\n",
    "* Every feature is an object, we will convert *df_deli* and *df_cons* to float."
   ]
  },
  {
   "cell_type": "code",
   "execution_count": 7,
   "metadata": {},
   "outputs": [],
   "source": [
    "df_deli = df_deli.astype('float')\n",
    "df_cons = df_cons.astype('float')"
   ]
  },
  {
   "cell_type": "markdown",
   "metadata": {},
   "source": [
    "## Exploring one single dwelling"
   ]
  },
  {
   "cell_type": "markdown",
   "metadata": {},
   "source": [
    "Once we have the datasest ready to work with them, let's plot the data from one house to see how it looks like. For that purpose, we will create a dataframe with two columns (energy delivery and energy consumption)."
   ]
  },
  {
   "cell_type": "code",
   "execution_count": 8,
   "metadata": {},
   "outputs": [
    {
     "data": {
      "text/html": [
       "<div>\n",
       "<style scoped>\n",
       "    .dataframe tbody tr th:only-of-type {\n",
       "        vertical-align: middle;\n",
       "    }\n",
       "\n",
       "    .dataframe tbody tr th {\n",
       "        vertical-align: top;\n",
       "    }\n",
       "\n",
       "    .dataframe thead th {\n",
       "        text-align: right;\n",
       "    }\n",
       "</style>\n",
       "<table border=\"1\" class=\"dataframe\">\n",
       "  <thead>\n",
       "    <tr style=\"text-align: right;\">\n",
       "      <th></th>\n",
       "      <th>deli</th>\n",
       "      <th>cons</th>\n",
       "    </tr>\n",
       "    <tr>\n",
       "      <th>timestamp</th>\n",
       "      <th></th>\n",
       "      <th></th>\n",
       "    </tr>\n",
       "  </thead>\n",
       "  <tbody>\n",
       "    <tr>\n",
       "      <th>2017-07-11 00:15:00</th>\n",
       "      <td>0.0</td>\n",
       "      <td>0.038</td>\n",
       "    </tr>\n",
       "    <tr>\n",
       "      <th>2017-07-11 00:30:00</th>\n",
       "      <td>0.0</td>\n",
       "      <td>0.018</td>\n",
       "    </tr>\n",
       "  </tbody>\n",
       "</table>\n",
       "</div>"
      ],
      "text/plain": [
       "                     deli   cons\n",
       "timestamp                       \n",
       "2017-07-11 00:15:00   0.0  0.038\n",
       "2017-07-11 00:30:00   0.0  0.018"
      ]
     },
     "metadata": {},
     "output_type": "display_data"
    }
   ],
   "source": [
    "# Dataframe which contains the first house\n",
    "df_house_1 = pd.DataFrame(columns=['deli', 'cons'], index=df_deli.index)\n",
    "df_house_1['deli'] = df_deli['H01']\n",
    "df_house_1['cons'] = df_cons['H01']\n",
    "\n",
    "display(df_house_1.head(2))"
   ]
  },
  {
   "cell_type": "markdown",
   "metadata": {},
   "source": [
    "### Handling outliers"
   ]
  },
  {
   "cell_type": "code",
   "execution_count": 9,
   "metadata": {},
   "outputs": [
    {
     "data": {
      "image/png": "[encoded data removed]",
      "text/plain": [
       "<Figure size 1296x360 with 1 Axes>"
      ]
     },
     "metadata": {
      "needs_background": "light"
     },
     "output_type": "display_data"
    }
   ],
   "source": [
    "df_house_1.plot.box(figsize=(18,5))\n",
    "plt.title(\"Energy Delivery and Energy Consumption from House Nº1\", fontsize=15)\n",
    "plt.show()"
   ]
  },
  {
   "cell_type": "markdown",
   "metadata": {},
   "source": [
    "We can clearly see that there are outliers in both columns (_deli_ and _cons_). Let's take a look at one entry in our data."
   ]
  },
  {
   "cell_type": "code",
   "execution_count": 10,
   "metadata": {},
   "outputs": [
    {
     "data": {
      "text/html": [
       "<div>\n",
       "<style scoped>\n",
       "    .dataframe tbody tr th:only-of-type {\n",
       "        vertical-align: middle;\n",
       "    }\n",
       "\n",
       "    .dataframe tbody tr th {\n",
       "        vertical-align: top;\n",
       "    }\n",
       "\n",
       "    .dataframe thead th {\n",
       "        text-align: right;\n",
       "    }\n",
       "</style>\n",
       "<table border=\"1\" class=\"dataframe\">\n",
       "  <thead>\n",
       "    <tr style=\"text-align: right;\">\n",
       "      <th></th>\n",
       "      <th>deli</th>\n",
       "      <th>cons</th>\n",
       "    </tr>\n",
       "    <tr>\n",
       "      <th>timestamp</th>\n",
       "      <th></th>\n",
       "      <th></th>\n",
       "    </tr>\n",
       "  </thead>\n",
       "  <tbody>\n",
       "    <tr>\n",
       "      <th>2018-05-03</th>\n",
       "      <td>211.751</td>\n",
       "      <td>85.744</td>\n",
       "    </tr>\n",
       "  </tbody>\n",
       "</table>\n",
       "</div>"
      ],
      "text/plain": [
       "               deli    cons\n",
       "timestamp                  \n",
       "2018-05-03  211.751  85.744"
      ]
     },
     "execution_count": 10,
     "metadata": {},
     "output_type": "execute_result"
    }
   ],
   "source": [
    "df_house_1[df_house_1['deli'] > 200]"
   ]
  },
  {
   "cell_type": "markdown",
   "metadata": {},
   "source": [
    "As we already know that the smart meter might malfunctions, let's take a look to the previous values."
   ]
  },
  {
   "cell_type": "code",
   "execution_count": 11,
   "metadata": {},
   "outputs": [
    {
     "data": {
      "text/html": [
       "<div>\n",
       "<style scoped>\n",
       "    .dataframe tbody tr th:only-of-type {\n",
       "        vertical-align: middle;\n",
       "    }\n",
       "\n",
       "    .dataframe tbody tr th {\n",
       "        vertical-align: top;\n",
       "    }\n",
       "\n",
       "    .dataframe thead th {\n",
       "        text-align: right;\n",
       "    }\n",
       "</style>\n",
       "<table border=\"1\" class=\"dataframe\">\n",
       "  <thead>\n",
       "    <tr style=\"text-align: right;\">\n",
       "      <th></th>\n",
       "      <th>deli</th>\n",
       "      <th>cons</th>\n",
       "    </tr>\n",
       "    <tr>\n",
       "      <th>timestamp</th>\n",
       "      <th></th>\n",
       "      <th></th>\n",
       "    </tr>\n",
       "  </thead>\n",
       "  <tbody>\n",
       "    <tr>\n",
       "      <th>2018-05-02 23:00:00</th>\n",
       "      <td>NaN</td>\n",
       "      <td>NaN</td>\n",
       "    </tr>\n",
       "    <tr>\n",
       "      <th>2018-05-02 23:15:00</th>\n",
       "      <td>NaN</td>\n",
       "      <td>NaN</td>\n",
       "    </tr>\n",
       "    <tr>\n",
       "      <th>2018-05-02 23:30:00</th>\n",
       "      <td>NaN</td>\n",
       "      <td>NaN</td>\n",
       "    </tr>\n",
       "    <tr>\n",
       "      <th>2018-05-02 23:45:00</th>\n",
       "      <td>NaN</td>\n",
       "      <td>NaN</td>\n",
       "    </tr>\n",
       "    <tr>\n",
       "      <th>2018-05-03 00:00:00</th>\n",
       "      <td>211.751</td>\n",
       "      <td>85.744</td>\n",
       "    </tr>\n",
       "  </tbody>\n",
       "</table>\n",
       "</div>"
      ],
      "text/plain": [
       "                        deli    cons\n",
       "timestamp                           \n",
       "2018-05-02 23:00:00      NaN     NaN\n",
       "2018-05-02 23:15:00      NaN     NaN\n",
       "2018-05-02 23:30:00      NaN     NaN\n",
       "2018-05-02 23:45:00      NaN     NaN\n",
       "2018-05-03 00:00:00  211.751  85.744"
      ]
     },
     "execution_count": 11,
     "metadata": {},
     "output_type": "execute_result"
    }
   ],
   "source": [
    "df_house_1['2018-05-02 23:00':'2018-05-03 00:00']"
   ]
  },
  {
   "cell_type": "markdown",
   "metadata": {},
   "source": [
    "Taking a look to the previous values, we can clearly see that the smart meter sopped working at some point and, when it started working again, it summed up all the previuos values which are not in the dataset (NaN), resulting in a outlier."
   ]
  },
  {
   "cell_type": "markdown",
   "metadata": {},
   "source": [
    "### Proving outliers"
   ]
  },
  {
   "cell_type": "code",
   "execution_count": 12,
   "metadata": {},
   "outputs": [
    {
     "data": {
      "image/png": "[encoded data removed]",
      "text/plain": [
       "<Figure size 1296x360 with 2 Axes>"
      ]
     },
     "metadata": {
      "needs_background": "light"
     },
     "output_type": "display_data"
    }
   ],
   "source": [
    "fig, axs = plt.subplots(1, 2, sharex=True, sharey=True, figsize=(18,5))\n",
    "axs[0].plot(df_house_1['deli'], color='g')\n",
    "axs[1].plot(df_house_1['cons'], color='r')\n",
    "\n",
    "axs[0].set_title(\"Energy Delivery\")\n",
    "axs[1].set_title(\"Energy Consumption\")\n",
    "\n",
    "plt.show()"
   ]
  },
  {
   "cell_type": "markdown",
   "metadata": {},
   "source": [
    "These two plots proves that the outliers in our dataset were compute because of a mulfunction of the smart meter."
   ]
  },
  {
   "cell_type": "markdown",
   "metadata": {},
   "source": [
    "### Exporting the datasets"
   ]
  },
  {
   "cell_type": "markdown",
   "metadata": {},
   "source": [
    "Now that we have splitted the datasets, we will export them to be used in the following steps."
   ]
  },
  {
   "cell_type": "code",
   "execution_count": 13,
   "metadata": {},
   "outputs": [],
   "source": [
    "df_deli.to_csv('Data/Data Exploration/delivery.csv')\n",
    "df_cons.to_csv('Data/Data Exploration/consumption.csv')\n",
    "df_info.to_csv('Data/Data Exploration/houses_info.csv')"
   ]
  }
 ],
 "metadata": {
  "kernelspec": {
   "display_name": "Python 3",
   "language": "python",
   "name": "python3"
  },
  "language_info": {
   "codemirror_mode": {
    "name": "ipython",
    "version": 3
   },
   "file_extension": ".py",
   "mimetype": "text/x-python",
   "name": "python",
   "nbconvert_exporter": "python",
   "pygments_lexer": "ipython3",
   "version": "3.6.8"
  }
 },
 "nbformat": 4,
 "nbformat_minor": 2
}
