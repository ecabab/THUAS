{
 "cells": [
  {
   "cell_type": "markdown",
   "metadata": {},
   "source": [
    "# Predictive Analytics"
   ]
  },
  {
   "cell_type": "code",
   "execution_count": 1,
   "metadata": {},
   "outputs": [],
   "source": [
    "import pandas as pd\n",
    "import numpy as np\n",
    "\n",
    "from sklearn.neighbors import KNeighborsClassifier\n",
    "from sklearn.preprocessing import StandardScaler, LabelBinarizer\n",
    "from sklearn.pipeline import Pipeline\n",
    "from sklearn.model_selection import train_test_split, GridSearchCV\n",
    "from sklearn.metrics import classification_report\n",
    "\n",
    "import matplotlib.pyplot as plt\n",
    "import seaborn as sns\n",
    "sns.set()"
   ]
  },
  {
   "cell_type": "markdown",
   "metadata": {},
   "source": [
    "## K-Nearest Neighbors"
   ]
  },
  {
   "cell_type": "markdown",
   "metadata": {},
   "source": [
    "KNN can be used for both classification and regression predictive problems and falls in the supervised learning family of algorithms. Our goal is to learn a function  $h : X → Y$  so that given an unseen observation  $x ,  h(x)$  can confidently predict the corresponding output $y$."
   ]
  },
  {
   "cell_type": "markdown",
   "metadata": {},
   "source": [
    "In the classification setting, the K-nearest neighbor algorithm essentially boils down to forming a majority vote between the K most similar instances to a given “unseen” observation. Similarity is defined according to a distance metric between two data points. The k-nearest-neighbor classifier is commonly based on the Euclidean distance between a test sample and the specified training samples. Let  $x_i$  be an input sample with $p$ features $(x_{i1}, x_{i2}, ...,x_{ip}), n$ be the total number of input samples $(i=1,2,...,n)$. The Euclidean distance between sample $x_i$ and $x_l$ is is defined as:\n",
    "\n",
    "$$d(x_{i}, x_{l}) = \\sqrt{(x_{i1} - x_{l1})^2 + (x_{i2} - x_{l2})^2 + ... + (x_{ip} - x_{lp})^2}$$"
   ]
  },
  {
   "cell_type": "markdown",
   "metadata": {},
   "source": [
    "KNN follows these steps:\n",
    "1. Choose the number K of neighbors.\n",
    "2. Take the K nearest neighbors of the new data point, according to your distance metric.\n",
    "3. Among these K neighbors, count the number of data points to each category.\n",
    "4. Assign the new data point to the category where you counted the most neighbors."
   ]
  },
  {
   "cell_type": "markdown",
   "metadata": {},
   "source": [
    "## Importing data using Pandas"
   ]
  },
  {
   "cell_type": "code",
   "execution_count": 2,
   "metadata": {},
   "outputs": [
    {
     "data": {
      "text/html": [
       "<div>\n",
       "<style scoped>\n",
       "    .dataframe tbody tr th:only-of-type {\n",
       "        vertical-align: middle;\n",
       "    }\n",
       "\n",
       "    .dataframe tbody tr th {\n",
       "        vertical-align: top;\n",
       "    }\n",
       "\n",
       "    .dataframe thead th {\n",
       "        text-align: right;\n",
       "    }\n",
       "</style>\n",
       "<table border=\"1\" class=\"dataframe\">\n",
       "  <thead>\n",
       "    <tr style=\"text-align: right;\">\n",
       "      <th></th>\n",
       "      <th>delivery</th>\n",
       "      <th>consumption</th>\n",
       "      <th>T</th>\n",
       "      <th>SQ</th>\n",
       "      <th>Q</th>\n",
       "      <th>N</th>\n",
       "      <th>week</th>\n",
       "      <th>month</th>\n",
       "      <th>season</th>\n",
       "      <th>heating_sys</th>\n",
       "      <th>no_people</th>\n",
       "      <th>no_solar_panels</th>\n",
       "      <th>sp_group</th>\n",
       "    </tr>\n",
       "  </thead>\n",
       "  <tbody>\n",
       "    <tr>\n",
       "      <th>0</th>\n",
       "      <td>91.363</td>\n",
       "      <td>35.031</td>\n",
       "      <td>16.282517</td>\n",
       "      <td>2.041958</td>\n",
       "      <td>68.468531</td>\n",
       "      <td>6.657343</td>\n",
       "      <td>28.0</td>\n",
       "      <td>7.0</td>\n",
       "      <td>2.0</td>\n",
       "      <td>1.0</td>\n",
       "      <td>4.0</td>\n",
       "      <td>17.0</td>\n",
       "      <td>3.0</td>\n",
       "    </tr>\n",
       "    <tr>\n",
       "      <th>1</th>\n",
       "      <td>155.805</td>\n",
       "      <td>25.393</td>\n",
       "      <td>18.701190</td>\n",
       "      <td>3.732143</td>\n",
       "      <td>88.041667</td>\n",
       "      <td>5.446429</td>\n",
       "      <td>29.0</td>\n",
       "      <td>7.0</td>\n",
       "      <td>2.0</td>\n",
       "      <td>1.0</td>\n",
       "      <td>4.0</td>\n",
       "      <td>17.0</td>\n",
       "      <td>3.0</td>\n",
       "    </tr>\n",
       "    <tr>\n",
       "      <th>2</th>\n",
       "      <td>115.273</td>\n",
       "      <td>12.460</td>\n",
       "      <td>17.673506</td>\n",
       "      <td>2.405493</td>\n",
       "      <td>72.859451</td>\n",
       "      <td>7.172859</td>\n",
       "      <td>30.0</td>\n",
       "      <td>7.0</td>\n",
       "      <td>2.0</td>\n",
       "      <td>1.0</td>\n",
       "      <td>4.0</td>\n",
       "      <td>17.0</td>\n",
       "      <td>3.0</td>\n",
       "    </tr>\n",
       "    <tr>\n",
       "      <th>3</th>\n",
       "      <td>23.200</td>\n",
       "      <td>2.087</td>\n",
       "      <td>17.550000</td>\n",
       "      <td>3.958333</td>\n",
       "      <td>89.333333</td>\n",
       "      <td>6.958333</td>\n",
       "      <td>31.0</td>\n",
       "      <td>7.0</td>\n",
       "      <td>2.0</td>\n",
       "      <td>1.0</td>\n",
       "      <td>4.0</td>\n",
       "      <td>17.0</td>\n",
       "      <td>3.0</td>\n",
       "    </tr>\n",
       "    <tr>\n",
       "      <th>4</th>\n",
       "      <td>124.050</td>\n",
       "      <td>13.106</td>\n",
       "      <td>17.240972</td>\n",
       "      <td>2.923611</td>\n",
       "      <td>77.013889</td>\n",
       "      <td>5.847222</td>\n",
       "      <td>31.0</td>\n",
       "      <td>8.0</td>\n",
       "      <td>2.0</td>\n",
       "      <td>1.0</td>\n",
       "      <td>4.0</td>\n",
       "      <td>17.0</td>\n",
       "      <td>3.0</td>\n",
       "    </tr>\n",
       "  </tbody>\n",
       "</table>\n",
       "</div>"
      ],
      "text/plain": [
       "   delivery  consumption          T        SQ          Q         N  week  \\\n",
       "0    91.363       35.031  16.282517  2.041958  68.468531  6.657343  28.0   \n",
       "1   155.805       25.393  18.701190  3.732143  88.041667  5.446429  29.0   \n",
       "2   115.273       12.460  17.673506  2.405493  72.859451  7.172859  30.0   \n",
       "3    23.200        2.087  17.550000  3.958333  89.333333  6.958333  31.0   \n",
       "4   124.050       13.106  17.240972  2.923611  77.013889  5.847222  31.0   \n",
       "\n",
       "   month  season  heating_sys  no_people  no_solar_panels  sp_group  \n",
       "0    7.0     2.0          1.0        4.0             17.0       3.0  \n",
       "1    7.0     2.0          1.0        4.0             17.0       3.0  \n",
       "2    7.0     2.0          1.0        4.0             17.0       3.0  \n",
       "3    7.0     2.0          1.0        4.0             17.0       3.0  \n",
       "4    8.0     2.0          1.0        4.0             17.0       3.0  "
      ]
     },
     "execution_count": 2,
     "metadata": {},
     "output_type": "execute_result"
    }
   ],
   "source": [
    "df_full_weekly = pd.read_csv('Data/3.Data Preparation/df_full_weekly.csv')\n",
    "df_full_weekly.drop(df_full_weekly.columns[0], axis=1, inplace=True)\n",
    "\n",
    "df_full_weekly = df_full_weekly.astype('float')\n",
    "df_full_weekly.head()"
   ]
  },
  {
   "cell_type": "markdown",
   "metadata": {},
   "source": [
    "### Weekly dataset\n",
    "#### Predicting the heating system\n",
    "\n",
    "First of all, we divide the dataset into the X features and the target feature."
   ]
  },
  {
   "cell_type": "code",
   "execution_count": 3,
   "metadata": {},
   "outputs": [],
   "source": [
    "features = df_full_weekly.columns[:-4]\n",
    "target_feature = 'heating_sys'\n",
    "\n",
    "# Setting X and y\n",
    "X = df_full_weekly[features]\n",
    "y = df_full_weekly[target_feature]"
   ]
  },
  {
   "cell_type": "markdown",
   "metadata": {},
   "source": [
    "In order to create the model, we use a Pipeline, which allows us to set what we want to use inside it.\n",
    "\n",
    "In order to normalize the data, we use the StandarScaler library, which standardize features by removing the mean and scaling to unit variance. The standard score of a sample $x$ is calculated as: $z = (x - u) / s$, where $u$ is the mean of the training samples, and s is the standard deviation of the training samples.\n",
    "\n",
    "In this case, we use K_Nearest Neighbors. One of the features of the pipeline is that we are able to select different values for the model parameters. The pipeline will execute all the different possibilities and give us the best one. For this model, we will set the following parameters:\n",
    "* **n_neighbors:** Number of neighbors to use.\n",
    "* **p:** Power parameter for the Minkowski metric. When p = 1, this is equivalent to using manhattan_distance (l1), and euclidean_distance (l2) for p = 2. \n",
    "* **weights:** Weight function used in prediction. Possible values:\n",
    "    * uniform: uniform weights. All points in each neighborhood are weighted equally.\n",
    "    * distance: weight points by the inverse of their distance. in this case, closer neighbors of a query point will have a greater influence than neighbors which are further away."
   ]
  },
  {
   "cell_type": "code",
   "execution_count": 4,
   "metadata": {},
   "outputs": [
    {
     "data": {
      "text/plain": [
       "Pipeline(memory=None,\n",
       "     steps=[('scaler', StandardScaler(copy=True, with_mean=True, with_std=True)), ('knn', KNeighborsClassifier(algorithm='auto', leaf_size=30, metric='minkowski',\n",
       "           metric_params=None, n_jobs=None, n_neighbors=9, p=1,\n",
       "           weights='uniform'))])"
      ]
     },
     "metadata": {},
     "output_type": "display_data"
    },
    {
     "data": {
      "text/plain": [
       "'Score: 0.632251720747296'"
      ]
     },
     "metadata": {},
     "output_type": "display_data"
    }
   ],
   "source": [
    "steps = [('scaler', StandardScaler()),\n",
    "        ('knn', KNeighborsClassifier())]\n",
    "\n",
    "pipeline = Pipeline(steps)\n",
    "\n",
    "param_grid = {'knn__n_neighbors': np.arange(5, 15),\n",
    "              'knn__p': np.arange(1, 3),\n",
    "              'knn__weights':['uniform', 'distance']}\n",
    "\n",
    "knn_clf = GridSearchCV(pipeline, param_grid, cv=5, return_train_score=True)\n",
    "knn_clf.fit(X, y)\n",
    "\n",
    "score_weekly_hs = knn_clf.best_score_\n",
    "\n",
    "display(knn_clf.best_estimator_)\n",
    "display('Score: ' + str(knn_clf.best_score_))"
   ]
  },
  {
   "cell_type": "markdown",
   "metadata": {},
   "source": [
    "#### Predicting the nº of people"
   ]
  },
  {
   "cell_type": "code",
   "execution_count": 5,
   "metadata": {},
   "outputs": [],
   "source": [
    "features = df_full_weekly.columns[:-4]\n",
    "target_feature = 'no_people'\n",
    "\n",
    "# Setting X and y\n",
    "X = df_full_weekly[features]\n",
    "y = df_full_weekly[target_feature]"
   ]
  },
  {
   "cell_type": "code",
   "execution_count": 6,
   "metadata": {},
   "outputs": [
    {
     "data": {
      "text/plain": [
       "Pipeline(memory=None,\n",
       "     steps=[('scaler', StandardScaler(copy=True, with_mean=True, with_std=True)), ('knn', KNeighborsClassifier(algorithm='auto', leaf_size=30, metric='minkowski',\n",
       "           metric_params=None, n_jobs=None, n_neighbors=13, p=1,\n",
       "           weights='distance'))])"
      ]
     },
     "metadata": {},
     "output_type": "display_data"
    },
    {
     "data": {
      "text/plain": [
       "'Score: 0.41002949852507375'"
      ]
     },
     "metadata": {},
     "output_type": "display_data"
    }
   ],
   "source": [
    "steps = [('scaler', StandardScaler()),\n",
    "        ('knn', KNeighborsClassifier())]\n",
    "\n",
    "pipeline = Pipeline(steps)\n",
    "\n",
    "param_grid = {'knn__n_neighbors': np.arange(5, 15),\n",
    "              'knn__p': np.arange(1, 3),\n",
    "              'knn__weights':['uniform', 'distance']}\n",
    "\n",
    "knn_clf = GridSearchCV(pipeline, param_grid, cv=5, return_train_score=True)\n",
    "knn_clf.fit(X, y)\n",
    "\n",
    "score_weekly_pe = knn_clf.best_score_\n",
    "\n",
    "display(knn_clf.best_estimator_)\n",
    "display('Score: ' + str(knn_clf.best_score_))"
   ]
  },
  {
   "cell_type": "markdown",
   "metadata": {},
   "source": [
    "#### Predicting the nº of solar panels"
   ]
  },
  {
   "cell_type": "code",
   "execution_count": 7,
   "metadata": {},
   "outputs": [],
   "source": [
    "features = df_full_weekly.columns[:-4]\n",
    "target_feature = 'sp_group'\n",
    "\n",
    "# Setting X and y\n",
    "X = df_full_weekly[features]\n",
    "y = df_full_weekly[target_feature]"
   ]
  },
  {
   "cell_type": "code",
   "execution_count": 8,
   "metadata": {},
   "outputs": [
    {
     "data": {
      "text/plain": [
       "Pipeline(memory=None,\n",
       "     steps=[('scaler', StandardScaler(copy=True, with_mean=True, with_std=True)), ('knn', KNeighborsClassifier(algorithm='auto', leaf_size=30, metric='minkowski',\n",
       "           metric_params=None, n_jobs=None, n_neighbors=7, p=2,\n",
       "           weights='distance'))])"
      ]
     },
     "metadata": {},
     "output_type": "display_data"
    },
    {
     "data": {
      "text/plain": [
       "'Score: 0.5372009177318912'"
      ]
     },
     "metadata": {},
     "output_type": "display_data"
    }
   ],
   "source": [
    "steps = [('scaler', StandardScaler()),\n",
    "        ('knn', KNeighborsClassifier())]\n",
    "\n",
    "pipeline = Pipeline(steps)\n",
    "\n",
    "param_grid = {'knn__n_neighbors': np.arange(5, 15),\n",
    "              'knn__p': np.arange(1, 3),\n",
    "              'knn__weights':['uniform', 'distance']}\n",
    "\n",
    "knn_clf = GridSearchCV(pipeline, param_grid, cv=5, return_train_score=True)\n",
    "knn_clf.fit(X, y)\n",
    "\n",
    "score_weekly_sp = knn_clf.best_score_\n",
    "\n",
    "display(knn_clf.best_estimator_)\n",
    "display('Score: ' + str(knn_clf.best_score_))"
   ]
  },
  {
   "cell_type": "markdown",
   "metadata": {},
   "source": [
    "## Model scores"
   ]
  },
  {
   "cell_type": "code",
   "execution_count": 9,
   "metadata": {},
   "outputs": [],
   "source": [
    "knn_scores = pd.DataFrame({'target': ['Heating system', 'Nº of people', 'Nº of solar panels'],\n",
    "                          'score': [score_weekly_hs, score_weekly_pe, score_weekly_sp]})"
   ]
  },
  {
   "cell_type": "code",
   "execution_count": 10,
   "metadata": {},
   "outputs": [
    {
     "data": {
      "text/plain": [
       "Text(0.5, 0, 'Target')"
      ]
     },
     "execution_count": 10,
     "metadata": {},
     "output_type": "execute_result"
    },
    {
     "data": {
      "image/png": "[encoded data removed]",
      "text/plain": [
       "<Figure size 1080x576 with 1 Axes>"
      ]
     },
     "metadata": {
      "needs_background": "light"
     },
     "output_type": "display_data"
    }
   ],
   "source": [
    "fig = plt.figure(figsize=(15,8))\n",
    "ax = sns.barplot(x=\"target\", y=\"score\", data=knn_scores)\n",
    "\n",
    "for index, row in knn_scores.iterrows():\n",
    "    ax.text(index, (row.score + 0.01), round(row.score, 2), color='black', ha=\"center\", fontsize=15)\n",
    "\n",
    "ax.set_ylim(0,1)\n",
    "ax.set_ylabel('Score')\n",
    "ax.set_xlabel('Target')"
   ]
  }
 ],
 "metadata": {
  "kernelspec": {
   "display_name": "Python 3",
   "language": "python",
   "name": "python3"
  },
  "language_info": {
   "codemirror_mode": {
    "name": "ipython",
    "version": 3
   },
   "file_extension": ".py",
   "mimetype": "text/x-python",
   "name": "python",
   "nbconvert_exporter": "python",
   "pygments_lexer": "ipython3",
   "version": "3.6.8"
  }
 },
 "nbformat": 4,
 "nbformat_minor": 2
}
