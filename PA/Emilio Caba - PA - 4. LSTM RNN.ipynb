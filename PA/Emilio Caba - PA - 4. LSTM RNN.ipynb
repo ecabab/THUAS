{
 "cells": [
  {
   "cell_type": "markdown",
   "metadata": {},
   "source": [
    "# Predictive Analytics"
   ]
  },
  {
   "cell_type": "code",
   "execution_count": 1,
   "metadata": {},
   "outputs": [
    {
     "name": "stderr",
     "output_type": "stream",
     "text": [
      "Using TensorFlow backend.\n"
     ]
    }
   ],
   "source": [
    "import pandas as pd\n",
    "import numpy as np\n",
    "\n",
    "import keras\n",
    "from keras.models import Sequential\n",
    "from keras.layers import LSTM, Dropout, Dense\n",
    "from keras.optimizers import adam\n",
    "import tensorflow as tf\n",
    "\n",
    "from sklearn.preprocessing import StandardScaler, LabelBinarizer, MinMaxScaler\n",
    "from sklearn.pipeline import Pipeline\n",
    "from sklearn.model_selection import train_test_split, GridSearchCV\n",
    "from sklearn.metrics import classification_report\n",
    "\n",
    "import matplotlib.pyplot as plt\n",
    "import seaborn as sns\n",
    "sns.set()"
   ]
  },
  {
   "cell_type": "code",
   "execution_count": 2,
   "metadata": {},
   "outputs": [],
   "source": [
    "import os\n",
    "os.environ[\"CUDA_VISIBLE_DEVICES\"]='0'\n",
    "\n",
    "config = tf.ConfigProto()\n",
    "config.gpu_options.allow_growth=True\n",
    "sess = tf.Session(config=config)"
   ]
  },
  {
   "cell_type": "markdown",
   "metadata": {},
   "source": [
    "## LSTM"
   ]
  },
  {
   "cell_type": "code",
   "execution_count": null,
   "metadata": {},
   "outputs": [],
   "source": []
  },
  {
   "cell_type": "markdown",
   "metadata": {},
   "source": [
    "## Importing data using Pandas"
   ]
  },
  {
   "cell_type": "code",
   "execution_count": 3,
   "metadata": {},
   "outputs": [],
   "source": [
    "df_full_daily = pd.read_csv('Data/3.Data Preparation/df_full_hourly.csv')\n",
    "df_full_daily.drop([df_full_daily.columns[0], 'no_solar_panels'], axis=1, inplace=True)"
   ]
  },
  {
   "cell_type": "code",
   "execution_count": 4,
   "metadata": {},
   "outputs": [
    {
     "data": {
      "text/html": [
       "<div>\n",
       "<style scoped>\n",
       "    .dataframe tbody tr th:only-of-type {\n",
       "        vertical-align: middle;\n",
       "    }\n",
       "\n",
       "    .dataframe tbody tr th {\n",
       "        vertical-align: top;\n",
       "    }\n",
       "\n",
       "    .dataframe thead th {\n",
       "        text-align: right;\n",
       "    }\n",
       "</style>\n",
       "<table border=\"1\" class=\"dataframe\">\n",
       "  <thead>\n",
       "    <tr style=\"text-align: right;\">\n",
       "      <th></th>\n",
       "      <th>delivery</th>\n",
       "      <th>consumption</th>\n",
       "      <th>T</th>\n",
       "      <th>SQ</th>\n",
       "      <th>Q</th>\n",
       "      <th>N</th>\n",
       "      <th>hour</th>\n",
       "      <th>day_of_week</th>\n",
       "      <th>day_of_month</th>\n",
       "      <th>week</th>\n",
       "      <th>month</th>\n",
       "      <th>season</th>\n",
       "      <th>heating_sys</th>\n",
       "      <th>no_people</th>\n",
       "      <th>sp_group</th>\n",
       "    </tr>\n",
       "  </thead>\n",
       "  <tbody>\n",
       "    <tr>\n",
       "      <th>0</th>\n",
       "      <td>0.0</td>\n",
       "      <td>0.403</td>\n",
       "      <td>16.6</td>\n",
       "      <td>0.0</td>\n",
       "      <td>0.0</td>\n",
       "      <td>8.0</td>\n",
       "      <td>1</td>\n",
       "      <td>1</td>\n",
       "      <td>11</td>\n",
       "      <td>28</td>\n",
       "      <td>7</td>\n",
       "      <td>2</td>\n",
       "      <td>1</td>\n",
       "      <td>4.0</td>\n",
       "      <td>3</td>\n",
       "    </tr>\n",
       "    <tr>\n",
       "      <th>1</th>\n",
       "      <td>0.0</td>\n",
       "      <td>0.089</td>\n",
       "      <td>16.7</td>\n",
       "      <td>0.0</td>\n",
       "      <td>0.0</td>\n",
       "      <td>6.0</td>\n",
       "      <td>2</td>\n",
       "      <td>1</td>\n",
       "      <td>11</td>\n",
       "      <td>28</td>\n",
       "      <td>7</td>\n",
       "      <td>2</td>\n",
       "      <td>1</td>\n",
       "      <td>4.0</td>\n",
       "      <td>3</td>\n",
       "    </tr>\n",
       "    <tr>\n",
       "      <th>2</th>\n",
       "      <td>0.0</td>\n",
       "      <td>0.108</td>\n",
       "      <td>16.9</td>\n",
       "      <td>0.0</td>\n",
       "      <td>0.0</td>\n",
       "      <td>7.0</td>\n",
       "      <td>3</td>\n",
       "      <td>1</td>\n",
       "      <td>11</td>\n",
       "      <td>28</td>\n",
       "      <td>7</td>\n",
       "      <td>2</td>\n",
       "      <td>1</td>\n",
       "      <td>4.0</td>\n",
       "      <td>3</td>\n",
       "    </tr>\n",
       "    <tr>\n",
       "      <th>3</th>\n",
       "      <td>0.0</td>\n",
       "      <td>0.088</td>\n",
       "      <td>16.7</td>\n",
       "      <td>0.0</td>\n",
       "      <td>2.0</td>\n",
       "      <td>7.0</td>\n",
       "      <td>4</td>\n",
       "      <td>1</td>\n",
       "      <td>11</td>\n",
       "      <td>28</td>\n",
       "      <td>7</td>\n",
       "      <td>2</td>\n",
       "      <td>1</td>\n",
       "      <td>4.0</td>\n",
       "      <td>3</td>\n",
       "    </tr>\n",
       "    <tr>\n",
       "      <th>4</th>\n",
       "      <td>0.0</td>\n",
       "      <td>0.087</td>\n",
       "      <td>17.0</td>\n",
       "      <td>2.0</td>\n",
       "      <td>13.0</td>\n",
       "      <td>6.0</td>\n",
       "      <td>5</td>\n",
       "      <td>1</td>\n",
       "      <td>11</td>\n",
       "      <td>28</td>\n",
       "      <td>7</td>\n",
       "      <td>2</td>\n",
       "      <td>1</td>\n",
       "      <td>4.0</td>\n",
       "      <td>3</td>\n",
       "    </tr>\n",
       "  </tbody>\n",
       "</table>\n",
       "</div>"
      ],
      "text/plain": [
       "   delivery  consumption     T   SQ     Q    N  hour  day_of_week  \\\n",
       "0       0.0        0.403  16.6  0.0   0.0  8.0     1            1   \n",
       "1       0.0        0.089  16.7  0.0   0.0  6.0     2            1   \n",
       "2       0.0        0.108  16.9  0.0   0.0  7.0     3            1   \n",
       "3       0.0        0.088  16.7  0.0   2.0  7.0     4            1   \n",
       "4       0.0        0.087  17.0  2.0  13.0  6.0     5            1   \n",
       "\n",
       "   day_of_month  week  month  season  heating_sys  no_people  sp_group  \n",
       "0            11    28      7       2            1        4.0         3  \n",
       "1            11    28      7       2            1        4.0         3  \n",
       "2            11    28      7       2            1        4.0         3  \n",
       "3            11    28      7       2            1        4.0         3  \n",
       "4            11    28      7       2            1        4.0         3  "
      ]
     },
     "metadata": {},
     "output_type": "display_data"
    },
    {
     "data": {
      "text/plain": [
       "(402057, 15)"
      ]
     },
     "metadata": {},
     "output_type": "display_data"
    }
   ],
   "source": [
    "display(df_full_daily.head())\n",
    "display(df_full_daily.shape)"
   ]
  },
  {
   "cell_type": "markdown",
   "metadata": {},
   "source": [
    "### Normalizing data"
   ]
  },
  {
   "cell_type": "code",
   "execution_count": 5,
   "metadata": {},
   "outputs": [
    {
     "data": {
      "text/plain": [
       "Index(['delivery', 'consumption', 'T', 'SQ', 'Q', 'N', 'hour', 'day_of_week',\n",
       "       'day_of_month', 'week', 'month', 'season'],\n",
       "      dtype='object')"
      ]
     },
     "execution_count": 5,
     "metadata": {},
     "output_type": "execute_result"
    }
   ],
   "source": [
    "df_full_daily.columns[:-3]"
   ]
  },
  {
   "cell_type": "code",
   "execution_count": 6,
   "metadata": {},
   "outputs": [],
   "source": [
    "scaler = MinMaxScaler(feature_range=(0, 1))\n",
    "df_to_norm = df_full_daily[df_full_daily.columns[:-3]]\n",
    "df_norm = pd.DataFrame(scaler.fit_transform(df_to_norm.astype('float')))"
   ]
  },
  {
   "cell_type": "code",
   "execution_count": 7,
   "metadata": {},
   "outputs": [
    {
     "data": {
      "text/html": [
       "<div>\n",
       "<style scoped>\n",
       "    .dataframe tbody tr th:only-of-type {\n",
       "        vertical-align: middle;\n",
       "    }\n",
       "\n",
       "    .dataframe tbody tr th {\n",
       "        vertical-align: top;\n",
       "    }\n",
       "\n",
       "    .dataframe thead th {\n",
       "        text-align: right;\n",
       "    }\n",
       "</style>\n",
       "<table border=\"1\" class=\"dataframe\">\n",
       "  <thead>\n",
       "    <tr style=\"text-align: right;\">\n",
       "      <th></th>\n",
       "      <th>0</th>\n",
       "      <th>1</th>\n",
       "      <th>2</th>\n",
       "      <th>3</th>\n",
       "      <th>4</th>\n",
       "      <th>5</th>\n",
       "      <th>6</th>\n",
       "      <th>7</th>\n",
       "      <th>8</th>\n",
       "      <th>9</th>\n",
       "      <th>10</th>\n",
       "      <th>11</th>\n",
       "    </tr>\n",
       "  </thead>\n",
       "  <tbody>\n",
       "    <tr>\n",
       "      <th>0</th>\n",
       "      <td>0.0</td>\n",
       "      <td>0.047715</td>\n",
       "      <td>0.585882</td>\n",
       "      <td>0.0</td>\n",
       "      <td>0.000000</td>\n",
       "      <td>0.888889</td>\n",
       "      <td>0.043478</td>\n",
       "      <td>0.166667</td>\n",
       "      <td>0.333333</td>\n",
       "      <td>0.529412</td>\n",
       "      <td>0.545455</td>\n",
       "      <td>0.333333</td>\n",
       "    </tr>\n",
       "    <tr>\n",
       "      <th>1</th>\n",
       "      <td>0.0</td>\n",
       "      <td>0.010538</td>\n",
       "      <td>0.588235</td>\n",
       "      <td>0.0</td>\n",
       "      <td>0.000000</td>\n",
       "      <td>0.666667</td>\n",
       "      <td>0.086957</td>\n",
       "      <td>0.166667</td>\n",
       "      <td>0.333333</td>\n",
       "      <td>0.529412</td>\n",
       "      <td>0.545455</td>\n",
       "      <td>0.333333</td>\n",
       "    </tr>\n",
       "    <tr>\n",
       "      <th>2</th>\n",
       "      <td>0.0</td>\n",
       "      <td>0.012787</td>\n",
       "      <td>0.592941</td>\n",
       "      <td>0.0</td>\n",
       "      <td>0.000000</td>\n",
       "      <td>0.777778</td>\n",
       "      <td>0.130435</td>\n",
       "      <td>0.166667</td>\n",
       "      <td>0.333333</td>\n",
       "      <td>0.529412</td>\n",
       "      <td>0.545455</td>\n",
       "      <td>0.333333</td>\n",
       "    </tr>\n",
       "    <tr>\n",
       "      <th>3</th>\n",
       "      <td>0.0</td>\n",
       "      <td>0.010419</td>\n",
       "      <td>0.588235</td>\n",
       "      <td>0.0</td>\n",
       "      <td>0.005970</td>\n",
       "      <td>0.777778</td>\n",
       "      <td>0.173913</td>\n",
       "      <td>0.166667</td>\n",
       "      <td>0.333333</td>\n",
       "      <td>0.529412</td>\n",
       "      <td>0.545455</td>\n",
       "      <td>0.333333</td>\n",
       "    </tr>\n",
       "    <tr>\n",
       "      <th>4</th>\n",
       "      <td>0.0</td>\n",
       "      <td>0.010301</td>\n",
       "      <td>0.595294</td>\n",
       "      <td>0.2</td>\n",
       "      <td>0.038806</td>\n",
       "      <td>0.666667</td>\n",
       "      <td>0.217391</td>\n",
       "      <td>0.166667</td>\n",
       "      <td>0.333333</td>\n",
       "      <td>0.529412</td>\n",
       "      <td>0.545455</td>\n",
       "      <td>0.333333</td>\n",
       "    </tr>\n",
       "  </tbody>\n",
       "</table>\n",
       "</div>"
      ],
      "text/plain": [
       "     0         1         2    3         4         5         6         7  \\\n",
       "0  0.0  0.047715  0.585882  0.0  0.000000  0.888889  0.043478  0.166667   \n",
       "1  0.0  0.010538  0.588235  0.0  0.000000  0.666667  0.086957  0.166667   \n",
       "2  0.0  0.012787  0.592941  0.0  0.000000  0.777778  0.130435  0.166667   \n",
       "3  0.0  0.010419  0.588235  0.0  0.005970  0.777778  0.173913  0.166667   \n",
       "4  0.0  0.010301  0.595294  0.2  0.038806  0.666667  0.217391  0.166667   \n",
       "\n",
       "          8         9        10        11  \n",
       "0  0.333333  0.529412  0.545455  0.333333  \n",
       "1  0.333333  0.529412  0.545455  0.333333  \n",
       "2  0.333333  0.529412  0.545455  0.333333  \n",
       "3  0.333333  0.529412  0.545455  0.333333  \n",
       "4  0.333333  0.529412  0.545455  0.333333  "
      ]
     },
     "metadata": {},
     "output_type": "display_data"
    },
    {
     "data": {
      "text/plain": [
       "(402057, 12)"
      ]
     },
     "metadata": {},
     "output_type": "display_data"
    }
   ],
   "source": [
    "display(df_norm.head())\n",
    "display(df_norm.shape)"
   ]
  },
  {
   "cell_type": "code",
   "execution_count": 8,
   "metadata": {},
   "outputs": [],
   "source": [
    "divisions = [] \n",
    "difference = np.inf\n",
    "day = 2 #Select the number of days you want to make your predictions on \n",
    "\n",
    "for i in range(df_norm.shape[0]):\n",
    "    if (df_norm.shape[0] % (i+1) == 0):\n",
    "        divisions.append(i+1)\n",
    "        diff = abs((96*day)-(i+1))\n",
    "        if difference > diff:\n",
    "            difference = diff\n",
    "            rows = i+1\n",
    "        else:\n",
    "            pass\n",
    "        \n",
    "samples = int(df_full_daily.shape[0] / rows)"
   ]
  },
  {
   "cell_type": "code",
   "execution_count": 9,
   "metadata": {},
   "outputs": [
    {
     "data": {
      "text/plain": [
       "(14891, 27, 12)"
      ]
     },
     "execution_count": 9,
     "metadata": {},
     "output_type": "execute_result"
    }
   ],
   "source": [
    "#14891 samples #27 rows per house #15 features per dwelling\n",
    "X = df_norm.values.reshape(samples, rows, df_norm.shape[1]) \n",
    "X.shape"
   ]
  },
  {
   "cell_type": "code",
   "execution_count": 10,
   "metadata": {},
   "outputs": [
    {
     "data": {
      "text/plain": [
       "(402057, 3)"
      ]
     },
     "execution_count": 10,
     "metadata": {},
     "output_type": "execute_result"
    }
   ],
   "source": [
    "y = np.zeros((df_full_daily['heating_sys'].shape[0], 3))\n",
    "\n",
    "for i in range(len(df_full_daily['heating_sys'])):\n",
    "    if df_full_daily['heating_sys'][i] == 1:\n",
    "        y[i] = [1,0,0]\n",
    "    elif df_full_daily['heating_sys'][i] == 2:\n",
    "        y[i] = [0,1,0]\n",
    "    else:\n",
    "        y[i] = [0,0,1]\n",
    "        \n",
    "y.shape"
   ]
  },
  {
   "cell_type": "code",
   "execution_count": 11,
   "metadata": {},
   "outputs": [
    {
     "data": {
      "text/plain": [
       "(14891, 27, 3)"
      ]
     },
     "execution_count": 11,
     "metadata": {},
     "output_type": "execute_result"
    }
   ],
   "source": [
    "y = y.reshape(samples, rows, y.shape[1])\n",
    "y.shape"
   ]
  },
  {
   "cell_type": "code",
   "execution_count": 12,
   "metadata": {},
   "outputs": [],
   "source": [
    "X_train, X_test, y_train, y_test = train_test_split(X, y, test_size=0.3)\n",
    "\n",
    "model = Sequential()\n",
    "\n",
    "# Recurrent layer\n",
    "model.add(LSTM(40, input_shape=(X_train.shape[1], X_train.shape[2]), return_sequences=True))\n",
    "\n",
    "# Fully connected layer\n",
    "model.add(Dropout(0.25))\n",
    "model.add(Dense(20, activation='relu')) #relu/linear\n",
    "\n",
    "# Output layer\n",
    "model.add(Dense(3, activation='softmax')) #softmax/softmax para cada tipo de neurona"
   ]
  },
  {
   "cell_type": "code",
   "execution_count": 13,
   "metadata": {},
   "outputs": [],
   "source": [
    "lr= 0.003 #lr= 0.01 25 epochs got 75% validation accuracy and 96% final accuracy\n",
    "            #0.03 25 epochs got 35% validation accuracy and 36% final accuracy\n",
    "    \n",
    "opt = adam(lr=0.003)\n",
    "\n",
    "model.compile(loss='mean_squared_error', optimizer=opt, metrics=['accuracy'])"
   ]
  },
  {
   "cell_type": "code",
   "execution_count": 14,
   "metadata": {},
   "outputs": [
    {
     "name": "stdout",
     "output_type": "stream",
     "text": [
      "Train on 10423 samples, validate on 4468 samples\n",
      "Epoch 1/60\n",
      "10423/10423 [==============================] - 10s 976us/step - loss: 0.2097 - acc: 0.4585 - val_loss: 0.2087 - val_acc: 0.4651\n",
      "Epoch 2/60\n",
      "10423/10423 [==============================] - 9s 903us/step - loss: 0.2025 - acc: 0.5119 - val_loss: 0.2018 - val_acc: 0.5072\n",
      "Epoch 3/60\n",
      "10423/10423 [==============================] - 9s 906us/step - loss: 0.1878 - acc: 0.5571 - val_loss: 0.1743 - val_acc: 0.5911\n",
      "Epoch 4/60\n",
      "10423/10423 [==============================] - 10s 917us/step - loss: 0.1677 - acc: 0.6149 - val_loss: 0.1792 - val_acc: 0.5686\n",
      "Epoch 5/60\n",
      "10423/10423 [==============================] - 10s 923us/step - loss: 0.1552 - acc: 0.6516 - val_loss: 0.1487 - val_acc: 0.6699\n",
      "Epoch 6/60\n",
      "10423/10423 [==============================] - 10s 918us/step - loss: 0.1513 - acc: 0.6615 - val_loss: 0.1496 - val_acc: 0.6667\n",
      "Epoch 7/60\n",
      "10423/10423 [==============================] - 10s 921us/step - loss: 0.1462 - acc: 0.6745 - val_loss: 0.1463 - val_acc: 0.6671\n",
      "Epoch 8/60\n",
      "10423/10423 [==============================] - 10s 914us/step - loss: 0.1434 - acc: 0.6850 - val_loss: 0.1527 - val_acc: 0.6524\n",
      "Epoch 9/60\n",
      "10423/10423 [==============================] - 9s 906us/step - loss: 0.1395 - acc: 0.6935 - val_loss: 0.1375 - val_acc: 0.6930\n",
      "Epoch 10/60\n",
      "10423/10423 [==============================] - 10s 927us/step - loss: 0.1365 - acc: 0.7007 - val_loss: 0.1344 - val_acc: 0.7029\n",
      "Epoch 11/60\n",
      "10423/10423 [==============================] - 10s 934us/step - loss: 0.1354 - acc: 0.7029 - val_loss: 0.1305 - val_acc: 0.7150\n",
      "Epoch 12/60\n",
      "10423/10423 [==============================] - 10s 925us/step - loss: 0.1305 - acc: 0.7168 - val_loss: 0.1283 - val_acc: 0.7204\n",
      "Epoch 13/60\n",
      "10423/10423 [==============================] - 10s 933us/step - loss: 0.1271 - acc: 0.7245 - val_loss: 0.1236 - val_acc: 0.7314\n",
      "Epoch 14/60\n",
      "10423/10423 [==============================] - 10s 918us/step - loss: 0.1227 - acc: 0.7347 - val_loss: 0.1176 - val_acc: 0.7465\n",
      "Epoch 15/60\n",
      "10423/10423 [==============================] - 10s 915us/step - loss: 0.1184 - acc: 0.7471 - val_loss: 0.1203 - val_acc: 0.7373\n",
      "Epoch 16/60\n",
      "10423/10423 [==============================] - 10s 928us/step - loss: 0.1155 - acc: 0.7522 - val_loss: 0.1162 - val_acc: 0.7490\n",
      "Epoch 17/60\n",
      "10423/10423 [==============================] - 10s 932us/step - loss: 0.1136 - acc: 0.7575 - val_loss: 0.1158 - val_acc: 0.7512\n",
      "Epoch 18/60\n",
      "10423/10423 [==============================] - 9s 908us/step - loss: 0.1117 - acc: 0.7624 - val_loss: 0.1099 - val_acc: 0.7633\n",
      "Epoch 19/60\n",
      "10423/10423 [==============================] - 10s 914us/step - loss: 0.1093 - acc: 0.7675 - val_loss: 0.1086 - val_acc: 0.7668\n",
      "Epoch 20/60\n",
      "10423/10423 [==============================] - 10s 935us/step - loss: 0.1072 - acc: 0.7725 - val_loss: 0.1116 - val_acc: 0.7599\n",
      "Epoch 21/60\n",
      "10423/10423 [==============================] - 10s 923us/step - loss: 0.1075 - acc: 0.7715 - val_loss: 0.1062 - val_acc: 0.7709\n",
      "Epoch 22/60\n",
      "10423/10423 [==============================] - 9s 909us/step - loss: 0.1056 - acc: 0.7752 - val_loss: 0.1045 - val_acc: 0.7751\n",
      "Epoch 23/60\n",
      "10423/10423 [==============================] - 10s 942us/step - loss: 0.1038 - acc: 0.7786 - val_loss: 0.1040 - val_acc: 0.7762\n",
      "Epoch 24/60\n",
      "10423/10423 [==============================] - 10s 935us/step - loss: 0.1030 - acc: 0.7813 - val_loss: 0.1042 - val_acc: 0.7763\n",
      "Epoch 25/60\n",
      "10423/10423 [==============================] - 10s 930us/step - loss: 0.1021 - acc: 0.7826 - val_loss: 0.1028 - val_acc: 0.7793\n",
      "Epoch 26/60\n",
      "10423/10423 [==============================] - 9s 909us/step - loss: 0.1008 - acc: 0.7862 - val_loss: 0.1105 - val_acc: 0.7613\n",
      "Epoch 27/60\n",
      "10423/10423 [==============================] - 10s 936us/step - loss: 0.1009 - acc: 0.7844 - val_loss: 0.1025 - val_acc: 0.7776\n",
      "Epoch 28/60\n",
      "10423/10423 [==============================] - 10s 913us/step - loss: 0.0996 - acc: 0.7875 - val_loss: 0.1022 - val_acc: 0.7791\n",
      "Epoch 29/60\n",
      "10423/10423 [==============================] - 9s 909us/step - loss: 0.0972 - acc: 0.7936 - val_loss: 0.1016 - val_acc: 0.7808\n",
      "Epoch 30/60\n",
      "10423/10423 [==============================] - 10s 925us/step - loss: 0.0979 - acc: 0.7923 - val_loss: 0.1004 - val_acc: 0.7846\n",
      "Epoch 31/60\n",
      "10423/10423 [==============================] - 10s 930us/step - loss: 0.0953 - acc: 0.7973 - val_loss: 0.1024 - val_acc: 0.7772\n",
      "Epoch 32/60\n",
      "10423/10423 [==============================] - 10s 938us/step - loss: 0.0954 - acc: 0.7973 - val_loss: 0.0996 - val_acc: 0.7851\n",
      "Epoch 33/60\n",
      "10423/10423 [==============================] - 10s 926us/step - loss: 0.0947 - acc: 0.7994 - val_loss: 0.1021 - val_acc: 0.7822\n",
      "Epoch 34/60\n",
      "10423/10423 [==============================] - 10s 931us/step - loss: 0.0957 - acc: 0.7969 - val_loss: 0.1033 - val_acc: 0.7771\n",
      "Epoch 35/60\n",
      "10423/10423 [==============================] - 10s 924us/step - loss: 0.0936 - acc: 0.8005 - val_loss: 0.0983 - val_acc: 0.7890\n",
      "Epoch 36/60\n",
      "10423/10423 [==============================] - 10s 924us/step - loss: 0.0941 - acc: 0.8001 - val_loss: 0.0982 - val_acc: 0.7884\n",
      "Epoch 37/60\n",
      "10423/10423 [==============================] - 9s 908us/step - loss: 0.0926 - acc: 0.8029 - val_loss: 0.0996 - val_acc: 0.7865\n",
      "Epoch 38/60\n",
      "10423/10423 [==============================] - 10s 912us/step - loss: 0.0918 - acc: 0.8052 - val_loss: 0.1038 - val_acc: 0.7763\n",
      "Epoch 39/60\n",
      "10423/10423 [==============================] - 10s 917us/step - loss: 0.0906 - acc: 0.8079 - val_loss: 0.0974 - val_acc: 0.7899\n",
      "Epoch 40/60\n",
      "10423/10423 [==============================] - 10s 920us/step - loss: 0.0897 - acc: 0.8093 - val_loss: 0.1011 - val_acc: 0.7852\n",
      "Epoch 41/60\n",
      "10423/10423 [==============================] - 10s 933us/step - loss: 0.0903 - acc: 0.8080 - val_loss: 0.1023 - val_acc: 0.7806\n",
      "Epoch 42/60\n",
      "10423/10423 [==============================] - 10s 919us/step - loss: 0.0897 - acc: 0.8093 - val_loss: 0.1040 - val_acc: 0.7782\n",
      "Epoch 43/60\n",
      "10423/10423 [==============================] - 10s 924us/step - loss: 0.0894 - acc: 0.8106 - val_loss: 0.0974 - val_acc: 0.7919\n",
      "Epoch 44/60\n",
      "10423/10423 [==============================] - 10s 929us/step - loss: 0.0885 - acc: 0.8116 - val_loss: 0.0966 - val_acc: 0.7936\n",
      "Epoch 45/60\n",
      "10423/10423 [==============================] - 10s 926us/step - loss: 0.0879 - acc: 0.8124 - val_loss: 0.0959 - val_acc: 0.7961\n",
      "Epoch 46/60\n",
      "10423/10423 [==============================] - 10s 928us/step - loss: 0.0865 - acc: 0.8160 - val_loss: 0.0962 - val_acc: 0.7962\n",
      "Epoch 47/60\n",
      "10423/10423 [==============================] - 10s 922us/step - loss: 0.0862 - acc: 0.8172 - val_loss: 0.0973 - val_acc: 0.7934\n",
      "Epoch 48/60\n",
      "10423/10423 [==============================] - 10s 942us/step - loss: 0.0873 - acc: 0.8140 - val_loss: 0.0995 - val_acc: 0.7875\n",
      "Epoch 49/60\n",
      "10423/10423 [==============================] - 10s 936us/step - loss: 0.0863 - acc: 0.8162 - val_loss: 0.0968 - val_acc: 0.7906\n",
      "Epoch 50/60\n",
      "10423/10423 [==============================] - 10s 935us/step - loss: 0.0850 - acc: 0.8193 - val_loss: 0.0985 - val_acc: 0.7906\n",
      "Epoch 51/60\n",
      "10423/10423 [==============================] - 10s 915us/step - loss: 0.0856 - acc: 0.8174 - val_loss: 0.0981 - val_acc: 0.7914\n",
      "Epoch 52/60\n",
      "10423/10423 [==============================] - 10s 914us/step - loss: 0.0861 - acc: 0.8159 - val_loss: 0.1010 - val_acc: 0.7840\n",
      "Epoch 53/60\n",
      "10423/10423 [==============================] - 10s 949us/step - loss: 0.0847 - acc: 0.8190 - val_loss: 0.0993 - val_acc: 0.7919\n",
      "Epoch 54/60\n",
      "10423/10423 [==============================] - 10s 938us/step - loss: 0.0844 - acc: 0.8209 - val_loss: 0.0974 - val_acc: 0.7930\n",
      "Epoch 55/60\n",
      "10423/10423 [==============================] - 10s 942us/step - loss: 0.0832 - acc: 0.8221 - val_loss: 0.0967 - val_acc: 0.7934\n",
      "Epoch 56/60\n",
      "10423/10423 [==============================] - 10s 937us/step - loss: 0.0838 - acc: 0.8215 - val_loss: 0.0974 - val_acc: 0.7935\n",
      "Epoch 57/60\n",
      "10423/10423 [==============================] - 10s 933us/step - loss: 0.0832 - acc: 0.8218 - val_loss: 0.0955 - val_acc: 0.7979\n",
      "Epoch 58/60\n",
      "10423/10423 [==============================] - 10s 943us/step - loss: 0.0826 - acc: 0.8243 - val_loss: 0.0997 - val_acc: 0.7876\n",
      "Epoch 59/60\n"
     ]
    },
    {
     "name": "stdout",
     "output_type": "stream",
     "text": [
      "10423/10423 [==============================] - 10s 937us/step - loss: 0.0826 - acc: 0.8233 - val_loss: 0.0963 - val_acc: 0.7944\n",
      "Epoch 60/60\n",
      "10423/10423 [==============================] - 10s 925us/step - loss: 0.0818 - acc: 0.8248 - val_loss: 0.0951 - val_acc: 0.7976\n"
     ]
    }
   ],
   "source": [
    "y_train = y_train.astype(int)\n",
    "\n",
    "history = model.fit(X_train, y_train, epochs = 60, validation_data=(X_test, y_test))"
   ]
  },
  {
   "cell_type": "code",
   "execution_count": 15,
   "metadata": {},
   "outputs": [
    {
     "data": {
      "image/png": "[encoded data removed]",
      "text/plain": [
       "<Figure size 432x288 with 1 Axes>"
      ]
     },
     "metadata": {
      "needs_background": "light"
     },
     "output_type": "display_data"
    },
    {
     "data": {
      "image/png": "[encoded data removed]",
      "text/plain": [
       "<Figure size 432x288 with 1 Axes>"
      ]
     },
     "metadata": {
      "needs_background": "light"
     },
     "output_type": "display_data"
    }
   ],
   "source": [
    "# Plot training & validation accuracy values\n",
    "plt.plot(history.history['acc'])\n",
    "plt.plot(history.history['val_acc'])\n",
    "plt.title('Model accuracy')\n",
    "plt.ylabel('Accuracy')\n",
    "plt.xlabel('Epoch')\n",
    "plt.legend(['Train', 'Test'], loc='upper left')\n",
    "plt.show()\n",
    "\n",
    "# Plot training & validation loss values\n",
    "plt.plot(history.history['loss'])\n",
    "plt.plot(history.history['val_loss'])\n",
    "plt.title('Model loss')\n",
    "plt.ylabel('Loss')\n",
    "plt.xlabel('Epoch')\n",
    "plt.legend(['Train', 'Test'], loc='upper left')\n",
    "plt.show()"
   ]
  },
  {
   "cell_type": "code",
   "execution_count": 16,
   "metadata": {},
   "outputs": [],
   "source": [
    "X_predict = model.predict(X_test)"
   ]
  },
  {
   "cell_type": "code",
   "execution_count": 17,
   "metadata": {},
   "outputs": [],
   "source": [
    "X_predict_round = X_predict\n",
    "\n",
    "for i in range(len(X_predict_round)):\n",
    "    if X_predict_round[i][rows-1][0] == X_predict[i][rows-1].max():\n",
    "        X_predict_round[i][rows-1] = [1,0,0]\n",
    "    elif X_predict_round[i][rows-1][1] == X_predict[i][rows-1].max():\n",
    "        X_predict_round[i][rows-1] = [0,1,0]\n",
    "    elif X_predict_round[i][rows-1][2] == X_predict[i][rows-1].max():\n",
    "        X_predict_round[i][rows-1] = [0,0,1]"
   ]
  },
  {
   "cell_type": "code",
   "execution_count": 18,
   "metadata": {},
   "outputs": [
    {
     "name": "stdout",
     "output_type": "stream",
     "text": [
      "Accuracy: 91.5%\n"
     ]
    }
   ],
   "source": [
    "accuracy = np.empty(len(y_test))\n",
    "\n",
    "for i in range(len(X_predict_round)):\n",
    "    if np.array_equal(X_predict_round[i][rows-1], y_test[i][rows-1]):\n",
    "        accuracy[i] = True\n",
    "    else:\n",
    "        accuracy[i] = False\n",
    " \n",
    "print('Accuracy: ' + str(round(np.mean(accuracy)*100,1)) + '%')"
   ]
  },
  {
   "cell_type": "code",
   "execution_count": null,
   "metadata": {},
   "outputs": [],
   "source": []
  }
 ],
 "metadata": {
  "kernelspec": {
   "display_name": "Python 3",
   "language": "python",
   "name": "python3"
  },
  "language_info": {
   "codemirror_mode": {
    "name": "ipython",
    "version": 3
   },
   "file_extension": ".py",
   "mimetype": "text/x-python",
   "name": "python",
   "nbconvert_exporter": "python",
   "pygments_lexer": "ipython3",
   "version": "3.6.8"
  }
 },
 "nbformat": 4,
 "nbformat_minor": 2
}
