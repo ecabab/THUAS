{
 "cells": [
  {
   "cell_type": "markdown",
   "metadata": {},
   "source": [
    "# Predictive Analytics"
   ]
  },
  {
   "cell_type": "code",
   "execution_count": 1,
   "metadata": {},
   "outputs": [
    {
     "name": "stdout",
     "output_type": "stream",
     "text": [
      "Once deleted, variables cannot be recovered. Proceed (y/[n])? y\n"
     ]
    }
   ],
   "source": [
    "%reset"
   ]
  },
  {
   "cell_type": "code",
   "execution_count": 2,
   "metadata": {},
   "outputs": [
    {
     "name": "stderr",
     "output_type": "stream",
     "text": [
      "Using TensorFlow backend.\n"
     ]
    }
   ],
   "source": [
    "import pandas as pd\n",
    "import numpy as np\n",
    "\n",
    "import keras\n",
    "from keras.models import Sequential\n",
    "from keras.layers import LSTM, Dropout, Dense\n",
    "from keras.optimizers import adam\n",
    "import tensorflow as tf\n",
    "\n",
    "from sklearn.preprocessing import StandardScaler, LabelBinarizer, MinMaxScaler\n",
    "from sklearn.pipeline import Pipeline\n",
    "from sklearn.model_selection import train_test_split, GridSearchCV\n",
    "from sklearn.metrics import classification_report\n",
    "\n",
    "import matplotlib.pyplot as plt\n",
    "import seaborn as sns\n",
    "sns.set()"
   ]
  },
  {
   "cell_type": "code",
   "execution_count": 3,
   "metadata": {},
   "outputs": [],
   "source": [
    "import os\n",
    "os.environ[\"CUDA_VISIBLE_DEVICES\"]='0'\n",
    "\n",
    "config = tf.ConfigProto()\n",
    "config.gpu_options.allow_growth=True\n",
    "sess = tf.Session(config=config)"
   ]
  },
  {
   "cell_type": "markdown",
   "metadata": {},
   "source": [
    "## Neuronal Networks\n",
    "\n",
    "Neural Networks are set of algorithms which closely resemble the human brain and are designed to recognize patterns. They interpret sensory data through a machine perception, labelling or clustering raw input. They can recognize numerical patterns, contained in vectors, into which all real-world data ( images, sound, text or time series), must be translated. Artificial neural networks are composed of a large number of highly interconnected processing elements (neuron) working together to solve a problem.\n",
    "\n",
    "### Recurrent Neural Network\n",
    "\n",
    "Recurrent Neural Network is a generalization of feedforward neural network that has an internal memory. RNN is recurrent in nature as it performs the same function for every input of data while the output of the current input depends on the past one computation. After producing the output, it is copied and sent back into the recurrent network. For making a decision, it considers the current input and the output that it has learned from the previous input.\n",
    "\n",
    "### Long Short-Term Memory\n",
    "\n",
    "Long Short-Term Memory (LSTM) networks are a modified version of recurrent neural networks, which makes it easier to remember past data in memory. The vanishing gradient problem of RNN is resolved here. LSTM is well-suited to classify, process and predict time series given time lags of unknown duration. It trains the model by using back-propagation."
   ]
  },
  {
   "cell_type": "markdown",
   "metadata": {},
   "source": [
    "## Importing data using Pandas"
   ]
  },
  {
   "cell_type": "code",
   "execution_count": 4,
   "metadata": {},
   "outputs": [],
   "source": [
    "df_full_daily = pd.read_csv('Data/3.Data Preparation/df_full_hourly.csv')\n",
    "df_full_daily.drop([df_full_daily.columns[0], 'no_solar_panels'], axis=1, inplace=True)"
   ]
  },
  {
   "cell_type": "code",
   "execution_count": 5,
   "metadata": {},
   "outputs": [
    {
     "data": {
      "text/html": [
       "<div>\n",
       "<style scoped>\n",
       "    .dataframe tbody tr th:only-of-type {\n",
       "        vertical-align: middle;\n",
       "    }\n",
       "\n",
       "    .dataframe tbody tr th {\n",
       "        vertical-align: top;\n",
       "    }\n",
       "\n",
       "    .dataframe thead th {\n",
       "        text-align: right;\n",
       "    }\n",
       "</style>\n",
       "<table border=\"1\" class=\"dataframe\">\n",
       "  <thead>\n",
       "    <tr style=\"text-align: right;\">\n",
       "      <th></th>\n",
       "      <th>delivery</th>\n",
       "      <th>consumption</th>\n",
       "      <th>T</th>\n",
       "      <th>SQ</th>\n",
       "      <th>Q</th>\n",
       "      <th>N</th>\n",
       "      <th>hour</th>\n",
       "      <th>day_of_week</th>\n",
       "      <th>day_of_month</th>\n",
       "      <th>week</th>\n",
       "      <th>month</th>\n",
       "      <th>season</th>\n",
       "      <th>heating_sys</th>\n",
       "      <th>no_people</th>\n",
       "      <th>sp_group</th>\n",
       "    </tr>\n",
       "  </thead>\n",
       "  <tbody>\n",
       "    <tr>\n",
       "      <th>0</th>\n",
       "      <td>0.0</td>\n",
       "      <td>0.403</td>\n",
       "      <td>16.6</td>\n",
       "      <td>0.0</td>\n",
       "      <td>0.0</td>\n",
       "      <td>8.0</td>\n",
       "      <td>1</td>\n",
       "      <td>1</td>\n",
       "      <td>11</td>\n",
       "      <td>28</td>\n",
       "      <td>7</td>\n",
       "      <td>2</td>\n",
       "      <td>1</td>\n",
       "      <td>4.0</td>\n",
       "      <td>3</td>\n",
       "    </tr>\n",
       "    <tr>\n",
       "      <th>1</th>\n",
       "      <td>0.0</td>\n",
       "      <td>0.089</td>\n",
       "      <td>16.7</td>\n",
       "      <td>0.0</td>\n",
       "      <td>0.0</td>\n",
       "      <td>6.0</td>\n",
       "      <td>2</td>\n",
       "      <td>1</td>\n",
       "      <td>11</td>\n",
       "      <td>28</td>\n",
       "      <td>7</td>\n",
       "      <td>2</td>\n",
       "      <td>1</td>\n",
       "      <td>4.0</td>\n",
       "      <td>3</td>\n",
       "    </tr>\n",
       "    <tr>\n",
       "      <th>2</th>\n",
       "      <td>0.0</td>\n",
       "      <td>0.108</td>\n",
       "      <td>16.9</td>\n",
       "      <td>0.0</td>\n",
       "      <td>0.0</td>\n",
       "      <td>7.0</td>\n",
       "      <td>3</td>\n",
       "      <td>1</td>\n",
       "      <td>11</td>\n",
       "      <td>28</td>\n",
       "      <td>7</td>\n",
       "      <td>2</td>\n",
       "      <td>1</td>\n",
       "      <td>4.0</td>\n",
       "      <td>3</td>\n",
       "    </tr>\n",
       "    <tr>\n",
       "      <th>3</th>\n",
       "      <td>0.0</td>\n",
       "      <td>0.088</td>\n",
       "      <td>16.7</td>\n",
       "      <td>0.0</td>\n",
       "      <td>2.0</td>\n",
       "      <td>7.0</td>\n",
       "      <td>4</td>\n",
       "      <td>1</td>\n",
       "      <td>11</td>\n",
       "      <td>28</td>\n",
       "      <td>7</td>\n",
       "      <td>2</td>\n",
       "      <td>1</td>\n",
       "      <td>4.0</td>\n",
       "      <td>3</td>\n",
       "    </tr>\n",
       "    <tr>\n",
       "      <th>4</th>\n",
       "      <td>0.0</td>\n",
       "      <td>0.087</td>\n",
       "      <td>17.0</td>\n",
       "      <td>2.0</td>\n",
       "      <td>13.0</td>\n",
       "      <td>6.0</td>\n",
       "      <td>5</td>\n",
       "      <td>1</td>\n",
       "      <td>11</td>\n",
       "      <td>28</td>\n",
       "      <td>7</td>\n",
       "      <td>2</td>\n",
       "      <td>1</td>\n",
       "      <td>4.0</td>\n",
       "      <td>3</td>\n",
       "    </tr>\n",
       "  </tbody>\n",
       "</table>\n",
       "</div>"
      ],
      "text/plain": [
       "   delivery  consumption     T   SQ     Q    N  hour  day_of_week  \\\n",
       "0       0.0        0.403  16.6  0.0   0.0  8.0     1            1   \n",
       "1       0.0        0.089  16.7  0.0   0.0  6.0     2            1   \n",
       "2       0.0        0.108  16.9  0.0   0.0  7.0     3            1   \n",
       "3       0.0        0.088  16.7  0.0   2.0  7.0     4            1   \n",
       "4       0.0        0.087  17.0  2.0  13.0  6.0     5            1   \n",
       "\n",
       "   day_of_month  week  month  season  heating_sys  no_people  sp_group  \n",
       "0            11    28      7       2            1        4.0         3  \n",
       "1            11    28      7       2            1        4.0         3  \n",
       "2            11    28      7       2            1        4.0         3  \n",
       "3            11    28      7       2            1        4.0         3  \n",
       "4            11    28      7       2            1        4.0         3  "
      ]
     },
     "metadata": {},
     "output_type": "display_data"
    },
    {
     "data": {
      "text/plain": [
       "(402057, 15)"
      ]
     },
     "metadata": {},
     "output_type": "display_data"
    }
   ],
   "source": [
    "display(df_full_daily.head())\n",
    "display(df_full_daily.shape)"
   ]
  },
  {
   "cell_type": "markdown",
   "metadata": {},
   "source": [
    "### Normalizing data"
   ]
  },
  {
   "cell_type": "code",
   "execution_count": 6,
   "metadata": {},
   "outputs": [
    {
     "data": {
      "text/plain": [
       "Index(['delivery', 'consumption', 'T', 'SQ', 'Q', 'N', 'hour', 'day_of_week',\n",
       "       'day_of_month', 'week', 'month', 'season'],\n",
       "      dtype='object')"
      ]
     },
     "execution_count": 6,
     "metadata": {},
     "output_type": "execute_result"
    }
   ],
   "source": [
    "df_full_daily.columns[:-3]"
   ]
  },
  {
   "cell_type": "code",
   "execution_count": 7,
   "metadata": {},
   "outputs": [],
   "source": [
    "scaler = MinMaxScaler(feature_range=(0, 1))\n",
    "df_to_norm = df_full_daily[df_full_daily.columns[:-3]]\n",
    "df_norm = pd.DataFrame(scaler.fit_transform(df_to_norm.astype('float')))"
   ]
  },
  {
   "cell_type": "code",
   "execution_count": 8,
   "metadata": {},
   "outputs": [
    {
     "data": {
      "text/html": [
       "<div>\n",
       "<style scoped>\n",
       "    .dataframe tbody tr th:only-of-type {\n",
       "        vertical-align: middle;\n",
       "    }\n",
       "\n",
       "    .dataframe tbody tr th {\n",
       "        vertical-align: top;\n",
       "    }\n",
       "\n",
       "    .dataframe thead th {\n",
       "        text-align: right;\n",
       "    }\n",
       "</style>\n",
       "<table border=\"1\" class=\"dataframe\">\n",
       "  <thead>\n",
       "    <tr style=\"text-align: right;\">\n",
       "      <th></th>\n",
       "      <th>0</th>\n",
       "      <th>1</th>\n",
       "      <th>2</th>\n",
       "      <th>3</th>\n",
       "      <th>4</th>\n",
       "      <th>5</th>\n",
       "      <th>6</th>\n",
       "      <th>7</th>\n",
       "      <th>8</th>\n",
       "      <th>9</th>\n",
       "      <th>10</th>\n",
       "      <th>11</th>\n",
       "    </tr>\n",
       "  </thead>\n",
       "  <tbody>\n",
       "    <tr>\n",
       "      <th>0</th>\n",
       "      <td>0.0</td>\n",
       "      <td>0.047715</td>\n",
       "      <td>0.585882</td>\n",
       "      <td>0.0</td>\n",
       "      <td>0.000000</td>\n",
       "      <td>0.888889</td>\n",
       "      <td>0.043478</td>\n",
       "      <td>0.166667</td>\n",
       "      <td>0.333333</td>\n",
       "      <td>0.529412</td>\n",
       "      <td>0.545455</td>\n",
       "      <td>0.333333</td>\n",
       "    </tr>\n",
       "    <tr>\n",
       "      <th>1</th>\n",
       "      <td>0.0</td>\n",
       "      <td>0.010538</td>\n",
       "      <td>0.588235</td>\n",
       "      <td>0.0</td>\n",
       "      <td>0.000000</td>\n",
       "      <td>0.666667</td>\n",
       "      <td>0.086957</td>\n",
       "      <td>0.166667</td>\n",
       "      <td>0.333333</td>\n",
       "      <td>0.529412</td>\n",
       "      <td>0.545455</td>\n",
       "      <td>0.333333</td>\n",
       "    </tr>\n",
       "    <tr>\n",
       "      <th>2</th>\n",
       "      <td>0.0</td>\n",
       "      <td>0.012787</td>\n",
       "      <td>0.592941</td>\n",
       "      <td>0.0</td>\n",
       "      <td>0.000000</td>\n",
       "      <td>0.777778</td>\n",
       "      <td>0.130435</td>\n",
       "      <td>0.166667</td>\n",
       "      <td>0.333333</td>\n",
       "      <td>0.529412</td>\n",
       "      <td>0.545455</td>\n",
       "      <td>0.333333</td>\n",
       "    </tr>\n",
       "    <tr>\n",
       "      <th>3</th>\n",
       "      <td>0.0</td>\n",
       "      <td>0.010419</td>\n",
       "      <td>0.588235</td>\n",
       "      <td>0.0</td>\n",
       "      <td>0.005970</td>\n",
       "      <td>0.777778</td>\n",
       "      <td>0.173913</td>\n",
       "      <td>0.166667</td>\n",
       "      <td>0.333333</td>\n",
       "      <td>0.529412</td>\n",
       "      <td>0.545455</td>\n",
       "      <td>0.333333</td>\n",
       "    </tr>\n",
       "    <tr>\n",
       "      <th>4</th>\n",
       "      <td>0.0</td>\n",
       "      <td>0.010301</td>\n",
       "      <td>0.595294</td>\n",
       "      <td>0.2</td>\n",
       "      <td>0.038806</td>\n",
       "      <td>0.666667</td>\n",
       "      <td>0.217391</td>\n",
       "      <td>0.166667</td>\n",
       "      <td>0.333333</td>\n",
       "      <td>0.529412</td>\n",
       "      <td>0.545455</td>\n",
       "      <td>0.333333</td>\n",
       "    </tr>\n",
       "  </tbody>\n",
       "</table>\n",
       "</div>"
      ],
      "text/plain": [
       "     0         1         2    3         4         5         6         7  \\\n",
       "0  0.0  0.047715  0.585882  0.0  0.000000  0.888889  0.043478  0.166667   \n",
       "1  0.0  0.010538  0.588235  0.0  0.000000  0.666667  0.086957  0.166667   \n",
       "2  0.0  0.012787  0.592941  0.0  0.000000  0.777778  0.130435  0.166667   \n",
       "3  0.0  0.010419  0.588235  0.0  0.005970  0.777778  0.173913  0.166667   \n",
       "4  0.0  0.010301  0.595294  0.2  0.038806  0.666667  0.217391  0.166667   \n",
       "\n",
       "          8         9        10        11  \n",
       "0  0.333333  0.529412  0.545455  0.333333  \n",
       "1  0.333333  0.529412  0.545455  0.333333  \n",
       "2  0.333333  0.529412  0.545455  0.333333  \n",
       "3  0.333333  0.529412  0.545455  0.333333  \n",
       "4  0.333333  0.529412  0.545455  0.333333  "
      ]
     },
     "metadata": {},
     "output_type": "display_data"
    },
    {
     "data": {
      "text/plain": [
       "(402057, 12)"
      ]
     },
     "metadata": {},
     "output_type": "display_data"
    }
   ],
   "source": [
    "display(df_norm.head())\n",
    "display(df_norm.shape)"
   ]
  },
  {
   "cell_type": "code",
   "execution_count": 9,
   "metadata": {},
   "outputs": [],
   "source": [
    "# The following code allows us to know what is the best split we can do to the data that we will insert into the neuronal network\n",
    "divisions = [] \n",
    "difference = np.inf\n",
    "day = 2 #Select the number of days you want to make your predictions on \n",
    "\n",
    "for i in range(df_norm.shape[0]):\n",
    "    if (df_norm.shape[0] % (i+1) == 0):\n",
    "        divisions.append(i+1)\n",
    "        diff = abs((96*day)-(i+1))\n",
    "        if difference > diff:\n",
    "            difference = diff\n",
    "            rows = i+1\n",
    "        else:\n",
    "            pass\n",
    "        \n",
    "samples = int(df_full_daily.shape[0] / rows)"
   ]
  },
  {
   "cell_type": "code",
   "execution_count": 10,
   "metadata": {},
   "outputs": [
    {
     "data": {
      "text/plain": [
       "(14891, 27, 12)"
      ]
     },
     "execution_count": 10,
     "metadata": {},
     "output_type": "execute_result"
    }
   ],
   "source": [
    "#14891 samples #27 rows per house #12 features per dwelling\n",
    "X = df_norm.values.reshape(samples, rows, df_norm.shape[1]) \n",
    "X.shape"
   ]
  },
  {
   "cell_type": "markdown",
   "metadata": {},
   "source": [
    "#### Predicting the heating system"
   ]
  },
  {
   "cell_type": "code",
   "execution_count": 11,
   "metadata": {},
   "outputs": [
    {
     "data": {
      "text/plain": [
       "(402057, 3)"
      ]
     },
     "execution_count": 11,
     "metadata": {},
     "output_type": "execute_result"
    }
   ],
   "source": [
    "y = np.zeros((df_full_daily['heating_sys'].shape[0], 3))\n",
    "\n",
    "for i in range(len(df_full_daily['heating_sys'])):\n",
    "    if df_full_daily['heating_sys'][i] == 1:\n",
    "        y[i] = [1,0,0]\n",
    "    elif df_full_daily['heating_sys'][i] == 2:\n",
    "        y[i] = [0,1,0]\n",
    "    else:\n",
    "        y[i] = [0,0,1]\n",
    "        \n",
    "y.shape"
   ]
  },
  {
   "cell_type": "code",
   "execution_count": 12,
   "metadata": {},
   "outputs": [
    {
     "data": {
      "text/plain": [
       "(14891, 27, 3)"
      ]
     },
     "execution_count": 12,
     "metadata": {},
     "output_type": "execute_result"
    }
   ],
   "source": [
    "y = y.reshape(samples, rows, y.shape[1])\n",
    "y.shape"
   ]
  },
  {
   "cell_type": "code",
   "execution_count": 13,
   "metadata": {},
   "outputs": [],
   "source": [
    "X_train, X_test, y_train, y_test = train_test_split(X, y, test_size=0.3)\n",
    "\n",
    "model = Sequential()\n",
    "\n",
    "# Recurrent layer\n",
    "model.add(LSTM(40, input_shape=(X_train.shape[1], X_train.shape[2]), return_sequences=True))\n",
    "\n",
    "# Fully connected layer\n",
    "model.add(Dropout(0.25))\n",
    "model.add(Dense(20, activation='relu')) #relu/linear\n",
    "\n",
    "# Output layer\n",
    "model.add(Dense(3, activation='softmax')) #softmax/softmax para cada tipo de neurona"
   ]
  },
  {
   "cell_type": "code",
   "execution_count": 14,
   "metadata": {},
   "outputs": [],
   "source": [
    "opt = adam(lr=0.003)\n",
    "\n",
    "model.compile(loss='mean_squared_error', optimizer=opt, metrics=['accuracy'])"
   ]
  },
  {
   "cell_type": "code",
   "execution_count": 15,
   "metadata": {},
   "outputs": [
    {
     "name": "stdout",
     "output_type": "stream",
     "text": [
      "Train on 10423 samples, validate on 4468 samples\n",
      "Epoch 1/60\n",
      "10423/10423 [==============================] - 9s 864us/step - loss: 0.2099 - acc: 0.4478 - val_loss: 0.2115 - val_acc: 0.4468\n",
      "Epoch 2/60\n",
      "10423/10423 [==============================] - 8s 784us/step - loss: 0.2049 - acc: 0.4904 - val_loss: 0.2062 - val_acc: 0.5037\n",
      "Epoch 3/60\n",
      "10423/10423 [==============================] - 8s 787us/step - loss: 0.1898 - acc: 0.5434 - val_loss: 0.1956 - val_acc: 0.5370\n",
      "Epoch 4/60\n",
      "10423/10423 [==============================] - 8s 805us/step - loss: 0.1665 - acc: 0.6178 - val_loss: 0.1604 - val_acc: 0.6416\n",
      "Epoch 5/60\n",
      "10423/10423 [==============================] - 8s 789us/step - loss: 0.1576 - acc: 0.6436 - val_loss: 0.1591 - val_acc: 0.6466\n",
      "Epoch 6/60\n",
      "10423/10423 [==============================] - 8s 787us/step - loss: 0.1524 - acc: 0.6587 - val_loss: 0.1511 - val_acc: 0.6597\n",
      "Epoch 7/60\n",
      "10423/10423 [==============================] - 8s 789us/step - loss: 0.1472 - acc: 0.6723 - val_loss: 0.1447 - val_acc: 0.6784\n",
      "Epoch 8/60\n",
      "10423/10423 [==============================] - 8s 794us/step - loss: 0.1435 - acc: 0.6807 - val_loss: 0.1433 - val_acc: 0.6779\n",
      "Epoch 9/60\n",
      "10423/10423 [==============================] - 8s 799us/step - loss: 0.1411 - acc: 0.6881 - val_loss: 0.1412 - val_acc: 0.6849\n",
      "Epoch 10/60\n",
      "10423/10423 [==============================] - 8s 793us/step - loss: 0.1377 - acc: 0.6961 - val_loss: 0.1430 - val_acc: 0.6804\n",
      "Epoch 11/60\n",
      "10423/10423 [==============================] - 8s 790us/step - loss: 0.1363 - acc: 0.7003 - val_loss: 0.1409 - val_acc: 0.6861\n",
      "Epoch 12/60\n",
      "10423/10423 [==============================] - 8s 787us/step - loss: 0.1343 - acc: 0.7055 - val_loss: 0.1491 - val_acc: 0.6630\n",
      "Epoch 13/60\n",
      "10423/10423 [==============================] - 8s 789us/step - loss: 0.1323 - acc: 0.7112 - val_loss: 0.1327 - val_acc: 0.7088\n",
      "Epoch 14/60\n",
      "10423/10423 [==============================] - 8s 790us/step - loss: 0.1305 - acc: 0.7152 - val_loss: 0.1294 - val_acc: 0.7180\n",
      "Epoch 15/60\n",
      "10423/10423 [==============================] - 8s 787us/step - loss: 0.1287 - acc: 0.7196 - val_loss: 0.1279 - val_acc: 0.7232\n",
      "Epoch 16/60\n",
      "10423/10423 [==============================] - 8s 794us/step - loss: 0.1252 - acc: 0.7281 - val_loss: 0.1309 - val_acc: 0.7144\n",
      "Epoch 17/60\n",
      "10423/10423 [==============================] - 8s 792us/step - loss: 0.1216 - acc: 0.7373 - val_loss: 0.1192 - val_acc: 0.7463\n",
      "Epoch 18/60\n",
      "10423/10423 [==============================] - 8s 787us/step - loss: 0.1193 - acc: 0.7425 - val_loss: 0.1250 - val_acc: 0.7296\n",
      "Epoch 19/60\n",
      "10423/10423 [==============================] - 8s 785us/step - loss: 0.1147 - acc: 0.7539 - val_loss: 0.1149 - val_acc: 0.7554\n",
      "Epoch 20/60\n",
      "10423/10423 [==============================] - 8s 788us/step - loss: 0.1120 - acc: 0.7596 - val_loss: 0.1159 - val_acc: 0.7551\n",
      "Epoch 21/60\n",
      "10423/10423 [==============================] - 8s 787us/step - loss: 0.1096 - acc: 0.7660 - val_loss: 0.1146 - val_acc: 0.7530\n",
      "Epoch 22/60\n",
      "10423/10423 [==============================] - 8s 785us/step - loss: 0.1083 - acc: 0.7675 - val_loss: 0.1162 - val_acc: 0.7479\n",
      "Epoch 23/60\n",
      "10423/10423 [==============================] - 8s 786us/step - loss: 0.1061 - acc: 0.7735 - val_loss: 0.1157 - val_acc: 0.7545\n",
      "Epoch 24/60\n",
      "10423/10423 [==============================] - 8s 790us/step - loss: 0.1045 - acc: 0.7771 - val_loss: 0.1084 - val_acc: 0.7703\n",
      "Epoch 25/60\n",
      "10423/10423 [==============================] - 9s 865us/step - loss: 0.1025 - acc: 0.7818 - val_loss: 0.1055 - val_acc: 0.7764\n",
      "Epoch 26/60\n",
      "10423/10423 [==============================] - 10s 915us/step - loss: 0.1012 - acc: 0.7842 - val_loss: 0.1070 - val_acc: 0.7735\n",
      "Epoch 27/60\n",
      "10423/10423 [==============================] - 10s 914us/step - loss: 0.1007 - acc: 0.7848 - val_loss: 0.1083 - val_acc: 0.7679\n",
      "Epoch 28/60\n",
      "10423/10423 [==============================] - 10s 915us/step - loss: 0.0985 - acc: 0.7893 - val_loss: 0.1062 - val_acc: 0.7764\n",
      "Epoch 29/60\n",
      "10423/10423 [==============================] - 10s 923us/step - loss: 0.0977 - acc: 0.7917 - val_loss: 0.1029 - val_acc: 0.7813\n",
      "Epoch 30/60\n",
      "10423/10423 [==============================] - 10s 924us/step - loss: 0.0970 - acc: 0.7935 - val_loss: 0.1051 - val_acc: 0.7789\n",
      "Epoch 31/60\n",
      "10423/10423 [==============================] - 10s 929us/step - loss: 0.0955 - acc: 0.7960 - val_loss: 0.1029 - val_acc: 0.7834\n",
      "Epoch 32/60\n",
      "10423/10423 [==============================] - 10s 920us/step - loss: 0.0940 - acc: 0.7999 - val_loss: 0.1099 - val_acc: 0.7637\n",
      "Epoch 33/60\n",
      "10423/10423 [==============================] - 10s 926us/step - loss: 0.0938 - acc: 0.7998 - val_loss: 0.1027 - val_acc: 0.7811\n",
      "Epoch 34/60\n",
      "10423/10423 [==============================] - 10s 924us/step - loss: 0.0933 - acc: 0.7999 - val_loss: 0.1040 - val_acc: 0.7817\n",
      "Epoch 35/60\n",
      "10423/10423 [==============================] - 10s 917us/step - loss: 0.0928 - acc: 0.8018 - val_loss: 0.1026 - val_acc: 0.7841\n",
      "Epoch 36/60\n",
      "10423/10423 [==============================] - 10s 915us/step - loss: 0.0906 - acc: 0.8074 - val_loss: 0.0984 - val_acc: 0.7925\n",
      "Epoch 37/60\n",
      "10423/10423 [==============================] - 10s 913us/step - loss: 0.0911 - acc: 0.8050 - val_loss: 0.1004 - val_acc: 0.7878\n",
      "Epoch 38/60\n",
      "10423/10423 [==============================] - 10s 922us/step - loss: 0.0907 - acc: 0.8068 - val_loss: 0.1032 - val_acc: 0.7807\n",
      "Epoch 39/60\n",
      "10423/10423 [==============================] - 10s 920us/step - loss: 0.0907 - acc: 0.8057 - val_loss: 0.0997 - val_acc: 0.7889\n",
      "Epoch 40/60\n",
      "10423/10423 [==============================] - 10s 924us/step - loss: 0.0883 - acc: 0.8118 - val_loss: 0.1001 - val_acc: 0.7893\n",
      "Epoch 41/60\n",
      "10423/10423 [==============================] - 10s 917us/step - loss: 0.0894 - acc: 0.8087 - val_loss: 0.0989 - val_acc: 0.7911\n",
      "Epoch 42/60\n",
      "10423/10423 [==============================] - 10s 926us/step - loss: 0.0887 - acc: 0.8103 - val_loss: 0.0993 - val_acc: 0.7901\n",
      "Epoch 43/60\n",
      "10423/10423 [==============================] - 10s 921us/step - loss: 0.0878 - acc: 0.8123 - val_loss: 0.1000 - val_acc: 0.7892\n",
      "Epoch 44/60\n",
      "10423/10423 [==============================] - 10s 927us/step - loss: 0.0870 - acc: 0.8141 - val_loss: 0.0997 - val_acc: 0.7894\n",
      "Epoch 45/60\n",
      "10423/10423 [==============================] - 10s 918us/step - loss: 0.0876 - acc: 0.8128 - val_loss: 0.1028 - val_acc: 0.7838\n",
      "Epoch 46/60\n",
      "10423/10423 [==============================] - 10s 914us/step - loss: 0.0861 - acc: 0.8157 - val_loss: 0.0979 - val_acc: 0.7944\n",
      "Epoch 47/60\n",
      "10423/10423 [==============================] - 10s 920us/step - loss: 0.0857 - acc: 0.8168 - val_loss: 0.0962 - val_acc: 0.7973\n",
      "Epoch 48/60\n",
      "10423/10423 [==============================] - 10s 920us/step - loss: 0.0856 - acc: 0.8170 - val_loss: 0.0963 - val_acc: 0.7973\n",
      "Epoch 49/60\n",
      "10423/10423 [==============================] - 10s 925us/step - loss: 0.0852 - acc: 0.8172 - val_loss: 0.0999 - val_acc: 0.7919\n",
      "Epoch 50/60\n",
      "10423/10423 [==============================] - 10s 920us/step - loss: 0.0842 - acc: 0.8193 - val_loss: 0.0993 - val_acc: 0.7927\n",
      "Epoch 51/60\n",
      "10423/10423 [==============================] - 10s 925us/step - loss: 0.0839 - acc: 0.8203 - val_loss: 0.0994 - val_acc: 0.7923\n",
      "Epoch 52/60\n",
      "10423/10423 [==============================] - 10s 920us/step - loss: 0.0836 - acc: 0.8210 - val_loss: 0.0997 - val_acc: 0.7909\n",
      "Epoch 53/60\n",
      "10423/10423 [==============================] - 9s 911us/step - loss: 0.0834 - acc: 0.8211 - val_loss: 0.0980 - val_acc: 0.7917\n",
      "Epoch 54/60\n",
      "10423/10423 [==============================] - 10s 919us/step - loss: 0.0834 - acc: 0.8215 - val_loss: 0.1037 - val_acc: 0.7859\n",
      "Epoch 55/60\n",
      "10423/10423 [==============================] - 10s 920us/step - loss: 0.0826 - acc: 0.8229 - val_loss: 0.1019 - val_acc: 0.7870\n",
      "Epoch 56/60\n",
      "10423/10423 [==============================] - 9s 910us/step - loss: 0.0817 - acc: 0.8251 - val_loss: 0.0979 - val_acc: 0.7937\n",
      "Epoch 57/60\n",
      "10423/10423 [==============================] - 10s 923us/step - loss: 0.0829 - acc: 0.8229 - val_loss: 0.0999 - val_acc: 0.7898\n",
      "Epoch 58/60\n",
      "10423/10423 [==============================] - 10s 925us/step - loss: 0.0833 - acc: 0.8208 - val_loss: 0.1022 - val_acc: 0.7837\n",
      "Epoch 59/60\n"
     ]
    },
    {
     "name": "stdout",
     "output_type": "stream",
     "text": [
      "10423/10423 [==============================] - 10s 916us/step - loss: 0.0811 - acc: 0.8264 - val_loss: 0.0992 - val_acc: 0.7926\n",
      "Epoch 60/60\n",
      "10423/10423 [==============================] - 10s 916us/step - loss: 0.0797 - acc: 0.8294 - val_loss: 0.0986 - val_acc: 0.7954\n"
     ]
    }
   ],
   "source": [
    "y_train = y_train.astype(int)\n",
    "\n",
    "history = model.fit(X_train, y_train, epochs = 60, validation_data=(X_test, y_test))"
   ]
  },
  {
   "cell_type": "code",
   "execution_count": 16,
   "metadata": {},
   "outputs": [
    {
     "data": {
      "image/png": "[encoded data removed]",
      "text/plain": [
       "<Figure size 432x288 with 1 Axes>"
      ]
     },
     "metadata": {
      "needs_background": "light"
     },
     "output_type": "display_data"
    },
    {
     "data": {
      "image/png": "[encoded data removed]",
      "text/plain": [
       "<Figure size 432x288 with 1 Axes>"
      ]
     },
     "metadata": {
      "needs_background": "light"
     },
     "output_type": "display_data"
    }
   ],
   "source": [
    "# Plot training & validation accuracy values\n",
    "plt.plot(history.history['acc'])\n",
    "plt.plot(history.history['val_acc'])\n",
    "plt.title('Model accuracy')\n",
    "plt.ylabel('Accuracy')\n",
    "plt.xlabel('Epoch')\n",
    "plt.legend(['Train', 'Test'], loc='upper left')\n",
    "plt.show()\n",
    "\n",
    "# Plot training & validation loss values\n",
    "plt.plot(history.history['loss'])\n",
    "plt.plot(history.history['val_loss'])\n",
    "plt.title('Model loss')\n",
    "plt.ylabel('Loss')\n",
    "plt.xlabel('Epoch')\n",
    "plt.legend(['Train', 'Test'], loc='upper left')\n",
    "plt.show()"
   ]
  },
  {
   "cell_type": "code",
   "execution_count": 17,
   "metadata": {},
   "outputs": [],
   "source": [
    "X_predict = model.predict(X_test)"
   ]
  },
  {
   "cell_type": "code",
   "execution_count": 18,
   "metadata": {},
   "outputs": [],
   "source": [
    "X_predict_round = X_predict\n",
    "\n",
    "for i in range(len(X_predict_round)):\n",
    "    if X_predict_round[i][rows-1][0] == X_predict[i][rows-1].max():\n",
    "        X_predict_round[i][rows-1] = [1,0,0]\n",
    "    elif X_predict_round[i][rows-1][1] == X_predict[i][rows-1].max():\n",
    "        X_predict_round[i][rows-1] = [0,1,0]\n",
    "    elif X_predict_round[i][rows-1][2] == X_predict[i][rows-1].max():\n",
    "        X_predict_round[i][rows-1] = [0,0,1]"
   ]
  },
  {
   "cell_type": "code",
   "execution_count": 19,
   "metadata": {},
   "outputs": [
    {
     "name": "stdout",
     "output_type": "stream",
     "text": [
      "Accuracy: 0.91%\n"
     ]
    }
   ],
   "source": [
    "accuracy = np.empty(len(y_test))\n",
    "\n",
    "for i in range(len(X_predict_round)):\n",
    "    if np.array_equal(X_predict_round[i][rows-1], y_test[i][rows-1]):\n",
    "        accuracy[i] = True\n",
    "    else:\n",
    "        accuracy[i] = False\n",
    "        \n",
    "score_hs = round(np.mean(accuracy), 2)\n",
    " \n",
    "print('Accuracy: ' + str(score_hs) + '%')"
   ]
  },
  {
   "cell_type": "markdown",
   "metadata": {},
   "source": [
    "#### Predicting the nº of people"
   ]
  },
  {
   "cell_type": "code",
   "execution_count": 20,
   "metadata": {},
   "outputs": [
    {
     "name": "stdout",
     "output_type": "stream",
     "text": [
      "(14891, 27, 12)\n",
      "(402057, 4)\n"
     ]
    }
   ],
   "source": [
    "y = np.zeros((df_full_daily['no_people'].shape[0], 4))\n",
    "\n",
    "for i in range(len(df_full_daily['no_people'])):\n",
    "    if df_full_daily['no_people'][i] == 1:\n",
    "        y[i] = [1,0,0,0]\n",
    "    elif df_full_daily['no_people'][i] == 2:\n",
    "        y[i] = [0,1,0,0]\n",
    "    elif df_full_daily['no_people'][i] == 3:\n",
    "        y[i] = [0,0,1,0]\n",
    "    else:\n",
    "        y[i] = [0,0,0,1]\n",
    "\n",
    "print(X.shape)\n",
    "print(y.shape)"
   ]
  },
  {
   "cell_type": "code",
   "execution_count": 21,
   "metadata": {},
   "outputs": [
    {
     "data": {
      "text/plain": [
       "(14891, 27, 4)"
      ]
     },
     "execution_count": 21,
     "metadata": {},
     "output_type": "execute_result"
    }
   ],
   "source": [
    "y = y.reshape(samples, rows, y.shape[1])\n",
    "y.shape"
   ]
  },
  {
   "cell_type": "code",
   "execution_count": 22,
   "metadata": {},
   "outputs": [],
   "source": [
    "X_train, X_test, y_train, y_test = train_test_split(X, y, test_size=0.3)\n",
    "\n",
    "model = Sequential()\n",
    "\n",
    "# Recurrent layer\n",
    "model.add(LSTM(60, input_shape=(X_train.shape[1], X_train.shape[2]), return_sequences=True))\n",
    "\n",
    "# Fully connected layer\n",
    "model.add(Dropout(0.20))\n",
    "model.add(Dense(20, activation='relu')) #relu/linear\n",
    "\n",
    "# Output layer\n",
    "model.add(Dense(4, activation='softmax')) #softmax/softmax para cada tipo de neurona"
   ]
  },
  {
   "cell_type": "code",
   "execution_count": 23,
   "metadata": {},
   "outputs": [],
   "source": [
    "opt = adam(lr=0.01) #0.01\n",
    "\n",
    "model.compile(loss = 'binary_crossentropy', optimizer = opt, metrics = ['accuracy'])"
   ]
  },
  {
   "cell_type": "code",
   "execution_count": 24,
   "metadata": {},
   "outputs": [
    {
     "name": "stdout",
     "output_type": "stream",
     "text": [
      "Train on 10423 samples, validate on 4468 samples\n",
      "Epoch 1/100\n",
      "10423/10423 [==============================] - 10s 964us/step - loss: 0.5096 - acc: 0.7496 - val_loss: 0.5081 - val_acc: 0.7500\n",
      "Epoch 2/100\n",
      "10423/10423 [==============================] - 10s 914us/step - loss: 0.5075 - acc: 0.7500 - val_loss: 0.5078 - val_acc: 0.7500\n",
      "Epoch 3/100\n",
      "10423/10423 [==============================] - 10s 929us/step - loss: 0.5068 - acc: 0.7500 - val_loss: 0.5064 - val_acc: 0.7502\n",
      "Epoch 4/100\n",
      "10423/10423 [==============================] - 10s 922us/step - loss: 0.5061 - acc: 0.7500 - val_loss: 0.5038 - val_acc: 0.7501\n",
      "Epoch 5/100\n",
      "10423/10423 [==============================] - 9s 910us/step - loss: 0.5050 - acc: 0.7499 - val_loss: 0.5021 - val_acc: 0.7504\n",
      "Epoch 6/100\n",
      "10423/10423 [==============================] - 9s 908us/step - loss: 0.5002 - acc: 0.7511 - val_loss: 0.4953 - val_acc: 0.7543\n",
      "Epoch 7/100\n",
      "10423/10423 [==============================] - 10s 920us/step - loss: 0.4967 - acc: 0.7526 - val_loss: 0.4934 - val_acc: 0.7554\n",
      "Epoch 8/100\n",
      "10423/10423 [==============================] - 10s 916us/step - loss: 0.4939 - acc: 0.7547 - val_loss: 0.4911 - val_acc: 0.7559\n",
      "Epoch 9/100\n",
      "10423/10423 [==============================] - 10s 914us/step - loss: 0.4918 - acc: 0.7557 - val_loss: 0.4899 - val_acc: 0.7575\n",
      "Epoch 10/100\n",
      "10423/10423 [==============================] - 10s 932us/step - loss: 0.4902 - acc: 0.7559 - val_loss: 0.4853 - val_acc: 0.7609\n",
      "Epoch 11/100\n",
      "10423/10423 [==============================] - 10s 919us/step - loss: 0.4873 - acc: 0.7582 - val_loss: 0.4858 - val_acc: 0.7597\n",
      "Epoch 12/100\n",
      "10423/10423 [==============================] - 9s 883us/step - loss: 0.4846 - acc: 0.7599 - val_loss: 0.4850 - val_acc: 0.7600\n",
      "Epoch 13/100\n",
      "10423/10423 [==============================] - 9s 851us/step - loss: 0.4822 - acc: 0.7607 - val_loss: 0.4842 - val_acc: 0.7592\n",
      "Epoch 14/100\n",
      "10423/10423 [==============================] - 10s 928us/step - loss: 0.4800 - acc: 0.7620 - val_loss: 0.4760 - val_acc: 0.7657\n",
      "Epoch 15/100\n",
      "10423/10423 [==============================] - 10s 923us/step - loss: 0.4771 - acc: 0.7634 - val_loss: 0.4747 - val_acc: 0.7656\n",
      "Epoch 16/100\n",
      "10423/10423 [==============================] - 10s 922us/step - loss: 0.4736 - acc: 0.7662 - val_loss: 0.4723 - val_acc: 0.7665\n",
      "Epoch 17/100\n",
      "10423/10423 [==============================] - 10s 930us/step - loss: 0.4700 - acc: 0.7672 - val_loss: 0.4682 - val_acc: 0.7696\n",
      "Epoch 18/100\n",
      "10423/10423 [==============================] - 10s 930us/step - loss: 0.4660 - acc: 0.7701 - val_loss: 0.4662 - val_acc: 0.7723\n",
      "Epoch 19/100\n",
      "10423/10423 [==============================] - 10s 929us/step - loss: 0.4618 - acc: 0.7725 - val_loss: 0.4714 - val_acc: 0.7685\n",
      "Epoch 20/100\n",
      "10423/10423 [==============================] - 10s 924us/step - loss: 0.4561 - acc: 0.7773 - val_loss: 0.4628 - val_acc: 0.7744\n",
      "Epoch 21/100\n",
      "10423/10423 [==============================] - 10s 920us/step - loss: 0.4515 - acc: 0.7798 - val_loss: 0.4571 - val_acc: 0.7782\n",
      "Epoch 22/100\n",
      "10423/10423 [==============================] - 10s 923us/step - loss: 0.4469 - acc: 0.7830 - val_loss: 0.4575 - val_acc: 0.7789\n",
      "Epoch 23/100\n",
      "10423/10423 [==============================] - 10s 926us/step - loss: 0.4428 - acc: 0.7855 - val_loss: 0.4438 - val_acc: 0.7872\n",
      "Epoch 24/100\n",
      "10423/10423 [==============================] - 9s 878us/step - loss: 0.4401 - acc: 0.7873 - val_loss: 0.4484 - val_acc: 0.7826\n",
      "Epoch 25/100\n",
      "10423/10423 [==============================] - 10s 926us/step - loss: 0.4350 - acc: 0.7909 - val_loss: 0.4568 - val_acc: 0.7817\n",
      "Epoch 26/100\n",
      "10423/10423 [==============================] - 10s 920us/step - loss: 0.4329 - acc: 0.7928 - val_loss: 0.4647 - val_acc: 0.7741\n",
      "Epoch 27/100\n",
      "10423/10423 [==============================] - 10s 917us/step - loss: 0.4286 - acc: 0.7954 - val_loss: 0.4445 - val_acc: 0.7900\n",
      "Epoch 28/100\n",
      "10423/10423 [==============================] - 10s 913us/step - loss: 0.4251 - acc: 0.7969 - val_loss: 0.4439 - val_acc: 0.7904\n",
      "Epoch 29/100\n",
      "10423/10423 [==============================] - 10s 928us/step - loss: 0.4225 - acc: 0.7993 - val_loss: 0.4404 - val_acc: 0.7905\n",
      "Epoch 30/100\n",
      "10423/10423 [==============================] - 10s 934us/step - loss: 0.4217 - acc: 0.7991 - val_loss: 0.4461 - val_acc: 0.7862\n",
      "Epoch 31/100\n",
      "10423/10423 [==============================] - 9s 903us/step - loss: 0.4182 - acc: 0.8016 - val_loss: 0.4388 - val_acc: 0.7917\n",
      "Epoch 32/100\n",
      "10423/10423 [==============================] - 9s 889us/step - loss: 0.4159 - acc: 0.8031 - val_loss: 0.4485 - val_acc: 0.7864\n",
      "Epoch 33/100\n",
      "10423/10423 [==============================] - 10s 920us/step - loss: 0.4129 - acc: 0.8045 - val_loss: 0.4383 - val_acc: 0.7941\n",
      "Epoch 34/100\n",
      "10423/10423 [==============================] - 10s 928us/step - loss: 0.4098 - acc: 0.8065 - val_loss: 0.4389 - val_acc: 0.7948\n",
      "Epoch 35/100\n",
      "10423/10423 [==============================] - 10s 921us/step - loss: 0.4083 - acc: 0.8072 - val_loss: 0.4347 - val_acc: 0.7950\n",
      "Epoch 36/100\n",
      "10423/10423 [==============================] - 10s 919us/step - loss: 0.4066 - acc: 0.8080 - val_loss: 0.4395 - val_acc: 0.7931\n",
      "Epoch 37/100\n",
      "10423/10423 [==============================] - 10s 927us/step - loss: 0.4022 - acc: 0.8109 - val_loss: 0.4389 - val_acc: 0.7941\n",
      "Epoch 38/100\n",
      "10423/10423 [==============================] - 10s 924us/step - loss: 0.4035 - acc: 0.8097 - val_loss: 0.4381 - val_acc: 0.7948\n",
      "Epoch 39/100\n",
      "10423/10423 [==============================] - 10s 921us/step - loss: 0.4006 - acc: 0.8118 - val_loss: 0.4421 - val_acc: 0.7902\n",
      "Epoch 40/100\n",
      "10423/10423 [==============================] - 9s 835us/step - loss: 0.4025 - acc: 0.8105 - val_loss: 0.4389 - val_acc: 0.7938\n",
      "Epoch 41/100\n",
      "10423/10423 [==============================] - 9s 894us/step - loss: 0.4001 - acc: 0.8119 - val_loss: 0.4353 - val_acc: 0.7973\n",
      "Epoch 42/100\n",
      "10423/10423 [==============================] - 10s 917us/step - loss: 0.3997 - acc: 0.8120 - val_loss: 0.4419 - val_acc: 0.7941\n",
      "Epoch 43/100\n",
      "10423/10423 [==============================] - 10s 919us/step - loss: 0.3951 - acc: 0.8151 - val_loss: 0.4470 - val_acc: 0.7886\n",
      "Epoch 44/100\n",
      "10423/10423 [==============================] - 10s 918us/step - loss: 0.3972 - acc: 0.8129 - val_loss: 0.4508 - val_acc: 0.7908\n",
      "Epoch 45/100\n",
      "10423/10423 [==============================] - 10s 929us/step - loss: 0.3944 - acc: 0.8148 - val_loss: 0.4418 - val_acc: 0.7931\n",
      "Epoch 46/100\n",
      "10423/10423 [==============================] - 9s 911us/step - loss: 0.3959 - acc: 0.8144 - val_loss: 0.4497 - val_acc: 0.7924\n",
      "Epoch 47/100\n",
      "10423/10423 [==============================] - 9s 878us/step - loss: 0.3910 - acc: 0.8163 - val_loss: 0.4469 - val_acc: 0.7935\n",
      "Epoch 48/100\n",
      "10423/10423 [==============================] - 10s 932us/step - loss: 0.3904 - acc: 0.8175 - val_loss: 0.4603 - val_acc: 0.7925\n",
      "Epoch 49/100\n",
      "10423/10423 [==============================] - 10s 925us/step - loss: 0.3930 - acc: 0.8164 - val_loss: 0.4463 - val_acc: 0.7902\n",
      "Epoch 50/100\n",
      "10423/10423 [==============================] - 10s 934us/step - loss: 0.3909 - acc: 0.8173 - val_loss: 0.4390 - val_acc: 0.7952\n",
      "Epoch 51/100\n",
      "10423/10423 [==============================] - 10s 925us/step - loss: 0.3889 - acc: 0.8185 - val_loss: 0.4430 - val_acc: 0.7964\n",
      "Epoch 52/100\n",
      "10423/10423 [==============================] - 10s 924us/step - loss: 0.3869 - acc: 0.8197 - val_loss: 0.4524 - val_acc: 0.7939\n",
      "Epoch 53/100\n",
      "10423/10423 [==============================] - 10s 925us/step - loss: 0.3854 - acc: 0.8206 - val_loss: 0.4615 - val_acc: 0.7856\n",
      "Epoch 54/100\n",
      "10423/10423 [==============================] - 10s 919us/step - loss: 0.3933 - acc: 0.8162 - val_loss: 0.4502 - val_acc: 0.7926\n",
      "Epoch 55/100\n",
      "10423/10423 [==============================] - 10s 924us/step - loss: 0.3896 - acc: 0.8183 - val_loss: 0.4580 - val_acc: 0.7929\n",
      "Epoch 56/100\n",
      "10423/10423 [==============================] - 10s 917us/step - loss: 0.3883 - acc: 0.8196 - val_loss: 0.4496 - val_acc: 0.7904\n",
      "Epoch 57/100\n",
      "10423/10423 [==============================] - 10s 921us/step - loss: 0.3899 - acc: 0.8182 - val_loss: 0.4520 - val_acc: 0.7939\n",
      "Epoch 58/100\n",
      "10423/10423 [==============================] - 10s 925us/step - loss: 0.3875 - acc: 0.8193 - val_loss: 0.4553 - val_acc: 0.7925\n"
     ]
    },
    {
     "name": "stdout",
     "output_type": "stream",
     "text": [
      "Epoch 59/100\n",
      "10423/10423 [==============================] - 10s 923us/step - loss: 0.3841 - acc: 0.8213 - val_loss: 0.4658 - val_acc: 0.7920\n",
      "Epoch 60/100\n",
      "10423/10423 [==============================] - 9s 888us/step - loss: 0.3890 - acc: 0.8182 - val_loss: 0.4505 - val_acc: 0.7920\n",
      "Epoch 61/100\n",
      "10423/10423 [==============================] - 10s 923us/step - loss: 0.3814 - acc: 0.8226 - val_loss: 0.4482 - val_acc: 0.7944\n",
      "Epoch 62/100\n",
      "10423/10423 [==============================] - 9s 911us/step - loss: 0.3844 - acc: 0.8211 - val_loss: 0.4529 - val_acc: 0.7896\n",
      "Epoch 63/100\n",
      "10423/10423 [==============================] - 10s 921us/step - loss: 0.3804 - acc: 0.8234 - val_loss: 0.4664 - val_acc: 0.7935\n",
      "Epoch 64/100\n",
      "10423/10423 [==============================] - 10s 926us/step - loss: 0.3877 - acc: 0.8193 - val_loss: 0.4539 - val_acc: 0.7879\n",
      "Epoch 65/100\n",
      "10423/10423 [==============================] - 10s 917us/step - loss: 0.3864 - acc: 0.8201 - val_loss: 0.4473 - val_acc: 0.7948\n",
      "Epoch 66/100\n",
      "10423/10423 [==============================] - 10s 918us/step - loss: 0.3760 - acc: 0.8254 - val_loss: 0.4507 - val_acc: 0.7939\n",
      "Epoch 67/100\n",
      "10423/10423 [==============================] - 9s 904us/step - loss: 0.3814 - acc: 0.8227 - val_loss: 0.4437 - val_acc: 0.7947\n",
      "Epoch 68/100\n",
      "10423/10423 [==============================] - 10s 919us/step - loss: 0.3861 - acc: 0.8206 - val_loss: 0.4514 - val_acc: 0.7936\n",
      "Epoch 69/100\n",
      "10423/10423 [==============================] - 9s 892us/step - loss: 0.3762 - acc: 0.8256 - val_loss: 0.4475 - val_acc: 0.7915\n",
      "Epoch 70/100\n",
      "10423/10423 [==============================] - 9s 852us/step - loss: 0.3797 - acc: 0.8236 - val_loss: 0.4511 - val_acc: 0.7925\n",
      "Epoch 71/100\n",
      "10423/10423 [==============================] - 10s 920us/step - loss: 0.3768 - acc: 0.8253 - val_loss: 0.4540 - val_acc: 0.7953\n",
      "Epoch 72/100\n",
      "10423/10423 [==============================] - 10s 929us/step - loss: 0.3767 - acc: 0.8248 - val_loss: 0.4574 - val_acc: 0.7913\n",
      "Epoch 73/100\n",
      "10423/10423 [==============================] - 10s 923us/step - loss: 0.3779 - acc: 0.8248 - val_loss: 0.4548 - val_acc: 0.7909\n",
      "Epoch 74/100\n",
      "10423/10423 [==============================] - 10s 917us/step - loss: 0.3758 - acc: 0.8261 - val_loss: 0.4462 - val_acc: 0.7960\n",
      "Epoch 75/100\n",
      "10423/10423 [==============================] - 10s 918us/step - loss: 0.3853 - acc: 0.8207 - val_loss: 0.4573 - val_acc: 0.7908\n",
      "Epoch 76/100\n",
      "10423/10423 [==============================] - 9s 884us/step - loss: 0.3780 - acc: 0.8246 - val_loss: 0.4541 - val_acc: 0.7945\n",
      "Epoch 77/100\n",
      "10423/10423 [==============================] - 9s 878us/step - loss: 0.3783 - acc: 0.8247 - val_loss: 0.4571 - val_acc: 0.7917\n",
      "Epoch 78/100\n",
      "10423/10423 [==============================] - 10s 926us/step - loss: 0.3837 - acc: 0.8225 - val_loss: 0.4519 - val_acc: 0.7933\n",
      "Epoch 79/100\n",
      "10423/10423 [==============================] - 10s 923us/step - loss: 0.3750 - acc: 0.8262 - val_loss: 0.4535 - val_acc: 0.7935\n",
      "Epoch 80/100\n",
      "10423/10423 [==============================] - 10s 913us/step - loss: 0.3911 - acc: 0.8185 - val_loss: 0.4553 - val_acc: 0.7891\n",
      "Epoch 81/100\n",
      "10423/10423 [==============================] - 10s 926us/step - loss: 0.3792 - acc: 0.8246 - val_loss: 0.4628 - val_acc: 0.7929\n",
      "Epoch 82/100\n",
      "10423/10423 [==============================] - 10s 919us/step - loss: 0.3724 - acc: 0.8277 - val_loss: 0.4701 - val_acc: 0.7917\n",
      "Epoch 83/100\n",
      "10423/10423 [==============================] - 10s 919us/step - loss: 0.3788 - acc: 0.8244 - val_loss: 0.4576 - val_acc: 0.7847\n",
      "Epoch 84/100\n",
      "10423/10423 [==============================] - 10s 922us/step - loss: 0.3799 - acc: 0.8233 - val_loss: 0.4608 - val_acc: 0.7917\n",
      "Epoch 85/100\n",
      "10423/10423 [==============================] - 10s 914us/step - loss: 0.3759 - acc: 0.8256 - val_loss: 0.4511 - val_acc: 0.7936\n",
      "Epoch 86/100\n",
      "10423/10423 [==============================] - 9s 867us/step - loss: 0.3792 - acc: 0.8249 - val_loss: 0.4641 - val_acc: 0.7884\n",
      "Epoch 87/100\n",
      "10423/10423 [==============================] - 10s 922us/step - loss: 0.3754 - acc: 0.8261 - val_loss: 0.4594 - val_acc: 0.7908\n",
      "Epoch 88/100\n",
      "10423/10423 [==============================] - 9s 889us/step - loss: 0.3846 - acc: 0.8216 - val_loss: 0.4447 - val_acc: 0.7979\n",
      "Epoch 89/100\n",
      "10423/10423 [==============================] - 9s 855us/step - loss: 0.3731 - acc: 0.8278 - val_loss: 0.4441 - val_acc: 0.7934\n",
      "Epoch 90/100\n",
      "10423/10423 [==============================] - 10s 924us/step - loss: 0.3738 - acc: 0.8277 - val_loss: 0.4611 - val_acc: 0.7941\n",
      "Epoch 91/100\n",
      "10423/10423 [==============================] - 10s 917us/step - loss: 0.3704 - acc: 0.8283 - val_loss: 0.4500 - val_acc: 0.7926\n",
      "Epoch 92/100\n",
      "10423/10423 [==============================] - 10s 921us/step - loss: 0.3710 - acc: 0.8285 - val_loss: 0.4481 - val_acc: 0.7945\n",
      "Epoch 93/100\n",
      "10423/10423 [==============================] - 10s 914us/step - loss: 0.3713 - acc: 0.8281 - val_loss: 0.4636 - val_acc: 0.7934\n",
      "Epoch 94/100\n",
      "10423/10423 [==============================] - 10s 919us/step - loss: 0.3746 - acc: 0.8269 - val_loss: 0.4527 - val_acc: 0.7939\n",
      "Epoch 95/100\n",
      "10423/10423 [==============================] - 9s 911us/step - loss: 0.3754 - acc: 0.8268 - val_loss: 0.4508 - val_acc: 0.7944\n",
      "Epoch 96/100\n",
      "10423/10423 [==============================] - 10s 919us/step - loss: 0.3906 - acc: 0.8177 - val_loss: 0.4474 - val_acc: 0.7910\n",
      "Epoch 97/100\n",
      "10423/10423 [==============================] - 10s 919us/step - loss: 0.3861 - acc: 0.8205 - val_loss: 0.4513 - val_acc: 0.7923\n",
      "Epoch 98/100\n",
      "10423/10423 [==============================] - 10s 922us/step - loss: 0.3955 - acc: 0.8165 - val_loss: 0.4465 - val_acc: 0.7947\n",
      "Epoch 99/100\n",
      "10423/10423 [==============================] - 10s 919us/step - loss: 0.3689 - acc: 0.8291 - val_loss: 0.4547 - val_acc: 0.7930\n",
      "Epoch 100/100\n",
      "10423/10423 [==============================] - 10s 917us/step - loss: 0.3785 - acc: 0.8249 - val_loss: 0.4555 - val_acc: 0.7932\n"
     ]
    }
   ],
   "source": [
    "y_train = y_train.astype(int)\n",
    "\n",
    "history = model.fit(X_train, y_train, epochs = 100, validation_data=(X_test, y_test))"
   ]
  },
  {
   "cell_type": "code",
   "execution_count": 25,
   "metadata": {},
   "outputs": [
    {
     "data": {
      "image/png": "[encoded data removed]",
      "text/plain": [
       "<Figure size 432x288 with 1 Axes>"
      ]
     },
     "metadata": {
      "needs_background": "light"
     },
     "output_type": "display_data"
    },
    {
     "data": {
      "image/png": "[encoded data removed]",
      "text/plain": [
       "<Figure size 432x288 with 1 Axes>"
      ]
     },
     "metadata": {
      "needs_background": "light"
     },
     "output_type": "display_data"
    }
   ],
   "source": [
    "# Plot training & validation accuracy values\n",
    "plt.plot(history.history['acc'])\n",
    "plt.plot(history.history['val_acc'])\n",
    "plt.title('Model accuracy')\n",
    "plt.ylabel('Accuracy')\n",
    "plt.xlabel('Epoch')\n",
    "plt.legend(['Train', 'Test'], loc='upper left')\n",
    "plt.show()\n",
    "\n",
    "# Plot training & validation loss values\n",
    "plt.plot(history.history['loss'])\n",
    "plt.plot(history.history['val_loss'])\n",
    "plt.title('Model loss')\n",
    "plt.ylabel('Loss')\n",
    "plt.xlabel('Epoch')\n",
    "plt.legend(['Train', 'Test'], loc='upper left')\n",
    "plt.show()"
   ]
  },
  {
   "cell_type": "code",
   "execution_count": 26,
   "metadata": {},
   "outputs": [],
   "source": [
    "X_predict = model.predict(X_test)"
   ]
  },
  {
   "cell_type": "code",
   "execution_count": 27,
   "metadata": {},
   "outputs": [],
   "source": [
    "X_predict_round = X_predict\n",
    "\n",
    "for i in range(len(X_predict_round)):\n",
    "    if X_predict_round[i][rows-1][0] == X_predict[i][rows-1].max():\n",
    "        X_predict_round[i][rows-1] = [1,0,0,0]\n",
    "    elif X_predict_round[i][rows-1][1] == X_predict[i][rows-1].max():\n",
    "        X_predict_round[i][rows-1] = [0,1,0,0]\n",
    "    elif X_predict_round[i][rows-1][2] == X_predict[i][rows-1].max():\n",
    "        X_predict_round[i][rows-1] = [0,0,1,0]\n",
    "    elif X_predict_round[i][rows-1][3] == X_predict[i][rows-1].max():\n",
    "        X_predict_round[i][rows-1] = [0,0,0,1]"
   ]
  },
  {
   "cell_type": "code",
   "execution_count": 28,
   "metadata": {},
   "outputs": [
    {
     "name": "stdout",
     "output_type": "stream",
     "text": [
      "Accuracy: 0.64%\n"
     ]
    }
   ],
   "source": [
    "accuracy = np.empty(len(y_test))\n",
    "\n",
    "for i in range(len(X_predict_round)):\n",
    "    if np.array_equal(X_predict_round[i][rows-1], y_test[i][rows-1]):\n",
    "        accuracy[i] = True\n",
    "    else:\n",
    "        accuracy[i] = False\n",
    "\n",
    "score_pe = round(np.mean(accuracy), 2)\n",
    " \n",
    "print('Accuracy: ' + str(score_pe) + '%')"
   ]
  },
  {
   "cell_type": "markdown",
   "metadata": {},
   "source": [
    "#### Predicting the nº of solar panels"
   ]
  },
  {
   "cell_type": "code",
   "execution_count": 29,
   "metadata": {},
   "outputs": [
    {
     "name": "stdout",
     "output_type": "stream",
     "text": [
      "(14891, 27, 12)\n",
      "(402057, 3)\n"
     ]
    }
   ],
   "source": [
    "y = np.zeros((df_full_daily['sp_group'].shape[0], 3))\n",
    "\n",
    "for i in range(len(df_full_daily['sp_group'])):\n",
    "    if df_full_daily['sp_group'][i] == 1:\n",
    "        y[i] = [1,0,0]\n",
    "    elif df_full_daily['sp_group'][i] == 2:\n",
    "        y[i] = [0,1,0]\n",
    "    else:\n",
    "        y[i] = [0,0,1]\n",
    "        \n",
    "print(X.shape)\n",
    "print(y.shape)"
   ]
  },
  {
   "cell_type": "code",
   "execution_count": 30,
   "metadata": {},
   "outputs": [
    {
     "data": {
      "text/plain": [
       "(14891, 27, 3)"
      ]
     },
     "execution_count": 30,
     "metadata": {},
     "output_type": "execute_result"
    }
   ],
   "source": [
    "y = y.reshape(samples, rows, y.shape[1])\n",
    "y.shape"
   ]
  },
  {
   "cell_type": "code",
   "execution_count": 31,
   "metadata": {},
   "outputs": [],
   "source": [
    "X_train, X_test, y_train, y_test = train_test_split(X, y, test_size=0.3)\n",
    "\n",
    "model = Sequential()\n",
    "\n",
    "# Recurrent layer\n",
    "model.add(LSTM(40, input_shape=(X_train.shape[1], X_train.shape[2]), return_sequences=True))\n",
    "\n",
    "# Fully connected layer\n",
    "model.add(Dropout(0.20))\n",
    "model.add(Dense(20, activation='relu')) #relu/linear\n",
    "\n",
    "# Output layer\n",
    "model.add(Dense(3, activation='softmax')) #softmax/softmax para cada tipo de neurona"
   ]
  },
  {
   "cell_type": "code",
   "execution_count": 32,
   "metadata": {},
   "outputs": [],
   "source": [
    "opt = adam(lr=0.003) #0.01\n",
    "\n",
    "model.compile(loss = 'binary_crossentropy', optimizer = opt, metrics = ['accuracy'])"
   ]
  },
  {
   "cell_type": "code",
   "execution_count": 33,
   "metadata": {},
   "outputs": [
    {
     "name": "stdout",
     "output_type": "stream",
     "text": [
      "Train on 10423 samples, validate on 4468 samples\n",
      "Epoch 1/50\n",
      "10423/10423 [==============================] - 10s 968us/step - loss: 0.6244 - acc: 0.6678 - val_loss: 0.6143 - val_acc: 0.6669\n",
      "Epoch 2/50\n",
      "10423/10423 [==============================] - 9s 900us/step - loss: 0.6075 - acc: 0.6727 - val_loss: 0.6451 - val_acc: 0.6512\n",
      "Epoch 3/50\n",
      "10423/10423 [==============================] - 9s 860us/step - loss: 0.5984 - acc: 0.6778 - val_loss: 0.5838 - val_acc: 0.6874\n",
      "Epoch 4/50\n",
      "10423/10423 [==============================] - 9s 909us/step - loss: 0.5884 - acc: 0.6865 - val_loss: 0.6045 - val_acc: 0.6775\n",
      "Epoch 5/50\n",
      "10423/10423 [==============================] - 10s 926us/step - loss: 0.5819 - acc: 0.6920 - val_loss: 0.5818 - val_acc: 0.6918\n",
      "Epoch 6/50\n",
      "10423/10423 [==============================] - 10s 919us/step - loss: 0.5781 - acc: 0.6954 - val_loss: 0.5645 - val_acc: 0.7011\n",
      "Epoch 7/50\n",
      "10423/10423 [==============================] - 10s 921us/step - loss: 0.5709 - acc: 0.7011 - val_loss: 0.5614 - val_acc: 0.7056\n",
      "Epoch 8/50\n",
      "10423/10423 [==============================] - 10s 930us/step - loss: 0.5676 - acc: 0.7044 - val_loss: 0.5656 - val_acc: 0.6982\n",
      "Epoch 9/50\n",
      "10423/10423 [==============================] - 10s 917us/step - loss: 0.5614 - acc: 0.7088 - val_loss: 0.5667 - val_acc: 0.6995\n",
      "Epoch 10/50\n",
      "10423/10423 [==============================] - 10s 933us/step - loss: 0.5592 - acc: 0.7102 - val_loss: 0.5584 - val_acc: 0.7093\n",
      "Epoch 11/50\n",
      "10423/10423 [==============================] - 10s 919us/step - loss: 0.5542 - acc: 0.7132 - val_loss: 0.5488 - val_acc: 0.7157\n",
      "Epoch 12/50\n",
      "10423/10423 [==============================] - 10s 930us/step - loss: 0.5483 - acc: 0.7189 - val_loss: 0.5550 - val_acc: 0.7092\n",
      "Epoch 13/50\n",
      "10423/10423 [==============================] - 10s 925us/step - loss: 0.5444 - acc: 0.7213 - val_loss: 0.5392 - val_acc: 0.7232\n",
      "Epoch 14/50\n",
      "10423/10423 [==============================] - 10s 924us/step - loss: 0.5372 - acc: 0.7275 - val_loss: 0.5340 - val_acc: 0.7287\n",
      "Epoch 15/50\n",
      "10423/10423 [==============================] - 10s 930us/step - loss: 0.5313 - acc: 0.7320 - val_loss: 0.5305 - val_acc: 0.7317\n",
      "Epoch 16/50\n",
      "10423/10423 [==============================] - 10s 933us/step - loss: 0.5217 - acc: 0.7393 - val_loss: 0.5245 - val_acc: 0.7361\n",
      "Epoch 17/50\n",
      "10423/10423 [==============================] - 10s 931us/step - loss: 0.5219 - acc: 0.7380 - val_loss: 0.5154 - val_acc: 0.7420\n",
      "Epoch 18/50\n",
      "10423/10423 [==============================] - 10s 934us/step - loss: 0.5159 - acc: 0.7419 - val_loss: 0.5176 - val_acc: 0.7400\n",
      "Epoch 19/50\n",
      "10423/10423 [==============================] - 10s 930us/step - loss: 0.5111 - acc: 0.7438 - val_loss: 0.5262 - val_acc: 0.7312\n",
      "Epoch 20/50\n",
      "10423/10423 [==============================] - 10s 929us/step - loss: 0.5075 - acc: 0.7475 - val_loss: 0.5156 - val_acc: 0.7402\n",
      "Epoch 21/50\n",
      "10423/10423 [==============================] - 10s 927us/step - loss: 0.5044 - acc: 0.7478 - val_loss: 0.5175 - val_acc: 0.7386\n",
      "Epoch 22/50\n",
      "10423/10423 [==============================] - 10s 919us/step - loss: 0.5003 - acc: 0.7511 - val_loss: 0.5047 - val_acc: 0.7498\n",
      "Epoch 23/50\n",
      "10423/10423 [==============================] - 10s 930us/step - loss: 0.4979 - acc: 0.7532 - val_loss: 0.5058 - val_acc: 0.7470\n",
      "Epoch 24/50\n",
      "10423/10423 [==============================] - 10s 929us/step - loss: 0.4925 - acc: 0.7565 - val_loss: 0.5046 - val_acc: 0.7495\n",
      "Epoch 25/50\n",
      "10423/10423 [==============================] - 10s 932us/step - loss: 0.4903 - acc: 0.7568 - val_loss: 0.5032 - val_acc: 0.7475\n",
      "Epoch 26/50\n",
      "10423/10423 [==============================] - 10s 933us/step - loss: 0.4885 - acc: 0.7576 - val_loss: 0.5047 - val_acc: 0.7459\n",
      "Epoch 27/50\n",
      "10423/10423 [==============================] - 10s 918us/step - loss: 0.4868 - acc: 0.7599 - val_loss: 0.4963 - val_acc: 0.7536\n",
      "Epoch 28/50\n",
      "10423/10423 [==============================] - 10s 935us/step - loss: 0.4835 - acc: 0.7610 - val_loss: 0.5263 - val_acc: 0.7353\n",
      "Epoch 29/50\n",
      "10423/10423 [==============================] - 10s 918us/step - loss: 0.4805 - acc: 0.7625 - val_loss: 0.5055 - val_acc: 0.7497\n",
      "Epoch 30/50\n",
      "10423/10423 [==============================] - 10s 921us/step - loss: 0.4782 - acc: 0.7638 - val_loss: 0.4989 - val_acc: 0.7494\n",
      "Epoch 31/50\n",
      "10423/10423 [==============================] - 10s 923us/step - loss: 0.4748 - acc: 0.7664 - val_loss: 0.4949 - val_acc: 0.7549\n",
      "Epoch 32/50\n",
      "10423/10423 [==============================] - 10s 929us/step - loss: 0.4760 - acc: 0.7651 - val_loss: 0.4883 - val_acc: 0.7596\n",
      "Epoch 33/50\n",
      "10423/10423 [==============================] - 10s 918us/step - loss: 0.4736 - acc: 0.7654 - val_loss: 0.5027 - val_acc: 0.7460\n",
      "Epoch 34/50\n",
      "10423/10423 [==============================] - 10s 923us/step - loss: 0.4696 - acc: 0.7686 - val_loss: 0.4928 - val_acc: 0.7557\n",
      "Epoch 35/50\n",
      "10423/10423 [==============================] - 10s 919us/step - loss: 0.4671 - acc: 0.7688 - val_loss: 0.5145 - val_acc: 0.7455\n",
      "Epoch 36/50\n",
      "10423/10423 [==============================] - 10s 921us/step - loss: 0.4656 - acc: 0.7704 - val_loss: 0.5013 - val_acc: 0.7497\n",
      "Epoch 37/50\n",
      "10423/10423 [==============================] - 10s 934us/step - loss: 0.4622 - acc: 0.7725 - val_loss: 0.5026 - val_acc: 0.7542\n",
      "Epoch 38/50\n",
      "10423/10423 [==============================] - 10s 934us/step - loss: 0.4601 - acc: 0.7738 - val_loss: 0.5089 - val_acc: 0.7531\n",
      "Epoch 39/50\n",
      "10423/10423 [==============================] - 10s 923us/step - loss: 0.4582 - acc: 0.7752 - val_loss: 0.4877 - val_acc: 0.7583\n",
      "Epoch 40/50\n",
      "10423/10423 [==============================] - 10s 926us/step - loss: 0.4591 - acc: 0.7737 - val_loss: 0.4885 - val_acc: 0.7609\n",
      "Epoch 41/50\n",
      "10423/10423 [==============================] - 10s 924us/step - loss: 0.4525 - acc: 0.7780 - val_loss: 0.4837 - val_acc: 0.7622\n",
      "Epoch 42/50\n",
      "10423/10423 [==============================] - 10s 925us/step - loss: 0.4537 - acc: 0.7772 - val_loss: 0.5040 - val_acc: 0.7516\n",
      "Epoch 43/50\n",
      "10423/10423 [==============================] - 10s 921us/step - loss: 0.4502 - acc: 0.7790 - val_loss: 0.4902 - val_acc: 0.7610\n",
      "Epoch 44/50\n",
      "10423/10423 [==============================] - 10s 930us/step - loss: 0.4486 - acc: 0.7798 - val_loss: 0.4826 - val_acc: 0.7617\n",
      "Epoch 45/50\n",
      "10423/10423 [==============================] - 10s 924us/step - loss: 0.4464 - acc: 0.7817 - val_loss: 0.4899 - val_acc: 0.7655\n",
      "Epoch 46/50\n",
      "10423/10423 [==============================] - 10s 925us/step - loss: 0.4441 - acc: 0.7831 - val_loss: 0.4934 - val_acc: 0.7631\n",
      "Epoch 47/50\n",
      "10423/10423 [==============================] - 10s 914us/step - loss: 0.4433 - acc: 0.7820 - val_loss: 0.4815 - val_acc: 0.7647\n",
      "Epoch 48/50\n",
      "10423/10423 [==============================] - 10s 924us/step - loss: 0.4389 - acc: 0.7857 - val_loss: 0.4957 - val_acc: 0.7592\n",
      "Epoch 49/50\n",
      "10423/10423 [==============================] - 10s 924us/step - loss: 0.4406 - acc: 0.7844 - val_loss: 0.4926 - val_acc: 0.7607\n",
      "Epoch 50/50\n",
      "10423/10423 [==============================] - 10s 928us/step - loss: 0.4368 - acc: 0.7865 - val_loss: 0.4918 - val_acc: 0.7637\n"
     ]
    }
   ],
   "source": [
    "y_train = y_train.astype(int)\n",
    "\n",
    "history = model.fit(X_train, y_train, epochs = 50, validation_data=(X_test, y_test))"
   ]
  },
  {
   "cell_type": "code",
   "execution_count": 34,
   "metadata": {},
   "outputs": [
    {
     "data": {
      "image/png": "[encoded data removed]",
      "text/plain": [
       "<Figure size 432x288 with 1 Axes>"
      ]
     },
     "metadata": {
      "needs_background": "light"
     },
     "output_type": "display_data"
    },
    {
     "data": {
      "image/png": "[encoded data removed]",
      "text/plain": [
       "<Figure size 432x288 with 1 Axes>"
      ]
     },
     "metadata": {
      "needs_background": "light"
     },
     "output_type": "display_data"
    }
   ],
   "source": [
    "# Plot training & validation accuracy values\n",
    "plt.plot(history.history['acc'])\n",
    "plt.plot(history.history['val_acc'])\n",
    "plt.title('Model accuracy')\n",
    "plt.ylabel('Accuracy')\n",
    "plt.xlabel('Epoch')\n",
    "plt.legend(['Train', 'Test'], loc='upper left')\n",
    "plt.show()\n",
    "\n",
    "# Plot training & validation loss values\n",
    "plt.plot(history.history['loss'])\n",
    "plt.plot(history.history['val_loss'])\n",
    "plt.title('Model loss')\n",
    "plt.ylabel('Loss')\n",
    "plt.xlabel('Epoch')\n",
    "plt.legend(['Train', 'Test'], loc='upper left')\n",
    "plt.show()"
   ]
  },
  {
   "cell_type": "code",
   "execution_count": 35,
   "metadata": {},
   "outputs": [],
   "source": [
    "X_predict = model.predict(X_test)"
   ]
  },
  {
   "cell_type": "code",
   "execution_count": 36,
   "metadata": {},
   "outputs": [],
   "source": [
    "X_predict_round = X_predict\n",
    "\n",
    "for i in range(len(X_predict_round)):\n",
    "    if X_predict_round[i][rows-1][0] == X_predict[i][rows-1].max():\n",
    "        X_predict_round[i][rows-1] = [1,0,0]\n",
    "    elif X_predict_round[i][rows-1][1] == X_predict[i][rows-1].max():\n",
    "        X_predict_round[i][rows-1] = [0,1,0]\n",
    "    else:\n",
    "        X_predict_round[i][rows-1] = [0,0,1]"
   ]
  },
  {
   "cell_type": "code",
   "execution_count": 37,
   "metadata": {},
   "outputs": [
    {
     "name": "stdout",
     "output_type": "stream",
     "text": [
      "Accuracy: 0.73%\n"
     ]
    }
   ],
   "source": [
    "accuracy = np.empty(len(y_test))\n",
    "\n",
    "for i in range(len(X_predict_round)):\n",
    "    if np.array_equal(X_predict_round[i][rows-1], y_test[i][rows-1]):\n",
    "        accuracy[i] = True\n",
    "    else:\n",
    "        accuracy[i] = False\n",
    "\n",
    "score_sp = round(np.mean(accuracy), 2)\n",
    " \n",
    "print('Accuracy: ' + str(score_sp) + '%')"
   ]
  },
  {
   "cell_type": "markdown",
   "metadata": {},
   "source": [
    "## Model scores"
   ]
  },
  {
   "cell_type": "code",
   "execution_count": 38,
   "metadata": {},
   "outputs": [],
   "source": [
    "lstm_scores = pd.DataFrame({'target': ['Heating system', 'Nº of people', 'Nº of solar panels'],\n",
    "                          'score': [score_hs, score_pe, score_sp]})"
   ]
  },
  {
   "cell_type": "code",
   "execution_count": 39,
   "metadata": {},
   "outputs": [
    {
     "data": {
      "text/plain": [
       "Text(0.5, 0, 'Target')"
      ]
     },
     "execution_count": 39,
     "metadata": {},
     "output_type": "execute_result"
    },
    {
     "data": {
      "image/png": "[encoded data removed]",
      "text/plain": [
       "<Figure size 1080x576 with 1 Axes>"
      ]
     },
     "metadata": {
      "needs_background": "light"
     },
     "output_type": "display_data"
    }
   ],
   "source": [
    "fig = plt.figure(figsize=(15,8))\n",
    "ax = sns.barplot(x=\"target\", y=\"score\", data=lstm_scores)\n",
    "\n",
    "for index, row in lstm_scores.iterrows():\n",
    "    ax.text(index, (row.score + 0.01), round(row.score, 2), color='black', ha=\"center\", fontsize=15)\n",
    "\n",
    "ax.set_ylim(0,1)\n",
    "ax.set_ylabel('Score')\n",
    "ax.set_xlabel('Target')"
   ]
  }
 ],
 "metadata": {
  "kernelspec": {
   "display_name": "Python 3",
   "language": "python",
   "name": "python3"
  },
  "language_info": {
   "codemirror_mode": {
    "name": "ipython",
    "version": 3
   },
   "file_extension": ".py",
   "mimetype": "text/x-python",
   "name": "python",
   "nbconvert_exporter": "python",
   "pygments_lexer": "ipython3",
   "version": "3.6.8"
  }
 },
 "nbformat": 4,
 "nbformat_minor": 2
}
